{
 "cells": [
  {
   "cell_type": "code",
   "execution_count": 1,
   "id": "5ca07857-9afc-4e2c-943e-664ee360f257",
   "metadata": {},
   "outputs": [
    {
     "data": {
      "text/html": [
       "<div>\n",
       "<style scoped>\n",
       "    .dataframe tbody tr th:only-of-type {\n",
       "        vertical-align: middle;\n",
       "    }\n",
       "\n",
       "    .dataframe tbody tr th {\n",
       "        vertical-align: top;\n",
       "    }\n",
       "\n",
       "    .dataframe thead th {\n",
       "        text-align: right;\n",
       "    }\n",
       "</style>\n",
       "<table border=\"1\" class=\"dataframe\">\n",
       "  <thead>\n",
       "    <tr style=\"text-align: right;\">\n",
       "      <th></th>\n",
       "      <th>Entity</th>\n",
       "      <th>Year</th>\n",
       "      <th>Code</th>\n",
       "      <th>Annual CO₂ emissions in tons</th>\n",
       "      <th>Renewables - TWh growth - equivalent</th>\n",
       "      <th>Annual CO₂ emissions from flaring</th>\n",
       "      <th>Annual CO₂ emissions from gas</th>\n",
       "      <th>Annual CO₂ emissions from oil</th>\n",
       "      <th>Annual CO₂ emissions from coal</th>\n",
       "      <th>Primary energy consumption (TWh)</th>\n",
       "      <th>...</th>\n",
       "      <th>Other renewables excluding bioenergy (TWh)</th>\n",
       "      <th>Oil consumption - TWh</th>\n",
       "      <th>Primary energy consumption per GDP (kWh/$)</th>\n",
       "      <th>Low-carbon electricity (TWh)</th>\n",
       "      <th>GDP (constant 2015 US$)</th>\n",
       "      <th>Renewable electricity (% electricity production) (World Bank (2015))</th>\n",
       "      <th>Solar photovoltaic capacity</th>\n",
       "      <th>Annual greenhouse gas emissions in CO2 equivalents</th>\n",
       "      <th>Continent</th>\n",
       "      <th>Electricity from wind (TWh)</th>\n",
       "    </tr>\n",
       "  </thead>\n",
       "  <tbody>\n",
       "    <tr>\n",
       "      <th>0</th>\n",
       "      <td>Afghanistan</td>\n",
       "      <td>1965</td>\n",
       "      <td>AFG</td>\n",
       "      <td>1006917.0</td>\n",
       "      <td>NaN</td>\n",
       "      <td>0.0</td>\n",
       "      <td>0.0</td>\n",
       "      <td>542272.0</td>\n",
       "      <td>381056.0</td>\n",
       "      <td>NaN</td>\n",
       "      <td>...</td>\n",
       "      <td>NaN</td>\n",
       "      <td>NaN</td>\n",
       "      <td>NaN</td>\n",
       "      <td>NaN</td>\n",
       "      <td>NaN</td>\n",
       "      <td>NaN</td>\n",
       "      <td>NaN</td>\n",
       "      <td>24430504.0</td>\n",
       "      <td>NaN</td>\n",
       "      <td>NaN</td>\n",
       "    </tr>\n",
       "    <tr>\n",
       "      <th>1</th>\n",
       "      <td>Afghanistan</td>\n",
       "      <td>1966</td>\n",
       "      <td>AFG</td>\n",
       "      <td>1091159.0</td>\n",
       "      <td>NaN</td>\n",
       "      <td>0.0</td>\n",
       "      <td>0.0</td>\n",
       "      <td>575248.0</td>\n",
       "      <td>428688.0</td>\n",
       "      <td>NaN</td>\n",
       "      <td>...</td>\n",
       "      <td>NaN</td>\n",
       "      <td>NaN</td>\n",
       "      <td>NaN</td>\n",
       "      <td>NaN</td>\n",
       "      <td>NaN</td>\n",
       "      <td>NaN</td>\n",
       "      <td>NaN</td>\n",
       "      <td>25174948.0</td>\n",
       "      <td>NaN</td>\n",
       "      <td>NaN</td>\n",
       "    </tr>\n",
       "    <tr>\n",
       "      <th>2</th>\n",
       "      <td>Afghanistan</td>\n",
       "      <td>1967</td>\n",
       "      <td>AFG</td>\n",
       "      <td>1281865.0</td>\n",
       "      <td>NaN</td>\n",
       "      <td>0.0</td>\n",
       "      <td>260144.0</td>\n",
       "      <td>556928.0</td>\n",
       "      <td>399376.0</td>\n",
       "      <td>NaN</td>\n",
       "      <td>...</td>\n",
       "      <td>NaN</td>\n",
       "      <td>NaN</td>\n",
       "      <td>NaN</td>\n",
       "      <td>NaN</td>\n",
       "      <td>NaN</td>\n",
       "      <td>NaN</td>\n",
       "      <td>NaN</td>\n",
       "      <td>24644464.0</td>\n",
       "      <td>NaN</td>\n",
       "      <td>NaN</td>\n",
       "    </tr>\n",
       "    <tr>\n",
       "      <th>3</th>\n",
       "      <td>Afghanistan</td>\n",
       "      <td>1968</td>\n",
       "      <td>AFG</td>\n",
       "      <td>1223391.0</td>\n",
       "      <td>NaN</td>\n",
       "      <td>0.0</td>\n",
       "      <td>347041.0</td>\n",
       "      <td>496817.0</td>\n",
       "      <td>332429.0</td>\n",
       "      <td>NaN</td>\n",
       "      <td>...</td>\n",
       "      <td>NaN</td>\n",
       "      <td>NaN</td>\n",
       "      <td>NaN</td>\n",
       "      <td>NaN</td>\n",
       "      <td>NaN</td>\n",
       "      <td>NaN</td>\n",
       "      <td>NaN</td>\n",
       "      <td>24382198.0</td>\n",
       "      <td>NaN</td>\n",
       "      <td>NaN</td>\n",
       "    </tr>\n",
       "    <tr>\n",
       "      <th>4</th>\n",
       "      <td>Afghanistan</td>\n",
       "      <td>1969</td>\n",
       "      <td>AFG</td>\n",
       "      <td>941232.0</td>\n",
       "      <td>NaN</td>\n",
       "      <td>0.0</td>\n",
       "      <td>0.0</td>\n",
       "      <td>527616.0</td>\n",
       "      <td>362736.0</td>\n",
       "      <td>NaN</td>\n",
       "      <td>...</td>\n",
       "      <td>NaN</td>\n",
       "      <td>NaN</td>\n",
       "      <td>NaN</td>\n",
       "      <td>NaN</td>\n",
       "      <td>NaN</td>\n",
       "      <td>NaN</td>\n",
       "      <td>NaN</td>\n",
       "      <td>23233260.0</td>\n",
       "      <td>NaN</td>\n",
       "      <td>NaN</td>\n",
       "    </tr>\n",
       "  </tbody>\n",
       "</table>\n",
       "<p>5 rows × 23 columns</p>\n",
       "</div>"
      ],
      "text/plain": [
       "        Entity  Year Code  Annual CO₂ emissions in tons  \\\n",
       "0  Afghanistan  1965  AFG                     1006917.0   \n",
       "1  Afghanistan  1966  AFG                     1091159.0   \n",
       "2  Afghanistan  1967  AFG                     1281865.0   \n",
       "3  Afghanistan  1968  AFG                     1223391.0   \n",
       "4  Afghanistan  1969  AFG                      941232.0   \n",
       "\n",
       "   Renewables - TWh growth - equivalent  Annual CO₂ emissions from flaring  \\\n",
       "0                                   NaN                                0.0   \n",
       "1                                   NaN                                0.0   \n",
       "2                                   NaN                                0.0   \n",
       "3                                   NaN                                0.0   \n",
       "4                                   NaN                                0.0   \n",
       "\n",
       "   Annual CO₂ emissions from gas  Annual CO₂ emissions from oil  \\\n",
       "0                            0.0                       542272.0   \n",
       "1                            0.0                       575248.0   \n",
       "2                       260144.0                       556928.0   \n",
       "3                       347041.0                       496817.0   \n",
       "4                            0.0                       527616.0   \n",
       "\n",
       "   Annual CO₂ emissions from coal  Primary energy consumption (TWh)  ...  \\\n",
       "0                        381056.0                               NaN  ...   \n",
       "1                        428688.0                               NaN  ...   \n",
       "2                        399376.0                               NaN  ...   \n",
       "3                        332429.0                               NaN  ...   \n",
       "4                        362736.0                               NaN  ...   \n",
       "\n",
       "   Other renewables excluding bioenergy (TWh)  Oil consumption - TWh  \\\n",
       "0                                         NaN                    NaN   \n",
       "1                                         NaN                    NaN   \n",
       "2                                         NaN                    NaN   \n",
       "3                                         NaN                    NaN   \n",
       "4                                         NaN                    NaN   \n",
       "\n",
       "   Primary energy consumption per GDP (kWh/$)  Low-carbon electricity (TWh)  \\\n",
       "0                                         NaN                           NaN   \n",
       "1                                         NaN                           NaN   \n",
       "2                                         NaN                           NaN   \n",
       "3                                         NaN                           NaN   \n",
       "4                                         NaN                           NaN   \n",
       "\n",
       "   GDP (constant 2015 US$)  \\\n",
       "0                      NaN   \n",
       "1                      NaN   \n",
       "2                      NaN   \n",
       "3                      NaN   \n",
       "4                      NaN   \n",
       "\n",
       "   Renewable electricity (% electricity production) (World Bank (2015))  \\\n",
       "0                                                NaN                      \n",
       "1                                                NaN                      \n",
       "2                                                NaN                      \n",
       "3                                                NaN                      \n",
       "4                                                NaN                      \n",
       "\n",
       "   Solar photovoltaic capacity  \\\n",
       "0                          NaN   \n",
       "1                          NaN   \n",
       "2                          NaN   \n",
       "3                          NaN   \n",
       "4                          NaN   \n",
       "\n",
       "   Annual greenhouse gas emissions in CO2 equivalents  Continent  \\\n",
       "0                                         24430504.0         NaN   \n",
       "1                                         25174948.0         NaN   \n",
       "2                                         24644464.0         NaN   \n",
       "3                                         24382198.0         NaN   \n",
       "4                                         23233260.0         NaN   \n",
       "\n",
       "   Electricity from wind (TWh)  \n",
       "0                          NaN  \n",
       "1                          NaN  \n",
       "2                          NaN  \n",
       "3                          NaN  \n",
       "4                          NaN  \n",
       "\n",
       "[5 rows x 23 columns]"
      ]
     },
     "execution_count": 1,
     "metadata": {},
     "output_type": "execute_result"
    }
   ],
   "source": [
    "## Basic import and DF creation\n",
    "\n",
    "import pandas as pd\n",
    "\n",
    "# Specify the path to your Excel file\n",
    "file_path = r\"09_Outputs\\main_data.xlsx\"\n",
    "\n",
    "# Load the Excel file into a DataFrame using the openpyxl engine\n",
    "df_main = pd.read_excel(file_path, engine='openpyxl')\n",
    "\n",
    "# Remove quotation marks from the 'Entity' column\n",
    "df_main['Entity'] = df_main['Entity'].str.replace('\"', '')\n",
    "\n",
    "# Retrieve unique countries from the DataFrame and store them as a list of strings\n",
    "all_countries = df_main['Entity'].drop_duplicates().astype(str).tolist()\n",
    "\n",
    "# Display the first 5 rows of the DataFrame for a quick overview\n",
    "df_main.head()\n"
   ]
  },
  {
   "cell_type": "code",
   "execution_count": 2,
   "id": "2d5a285c-0492-45b7-b80c-29468b1599d5",
   "metadata": {},
   "outputs": [
    {
     "data": {
      "text/markdown": [
       "## Diagramm für Annual CO₂ emissions in tons"
      ],
      "text/plain": [
       "<IPython.core.display.Markdown object>"
      ]
     },
     "metadata": {},
     "output_type": "display_data"
    },
    {
     "data": {
      "application/vnd.jupyter.widget-view+json": {
       "model_id": "b9fc206cc37a4abb81ae10f65d8d632d",
       "version_major": 2,
       "version_minor": 0
      },
      "text/plain": [
       "HBox(children=(VBox(children=(HBox(children=(Text(value='', layout=Layout(width='95%'), placeholder='Search fo…"
      ]
     },
     "metadata": {},
     "output_type": "display_data"
    },
    {
     "data": {
      "text/markdown": [
       "## Diagramm für Renewables - TWh growth - equivalent"
      ],
      "text/plain": [
       "<IPython.core.display.Markdown object>"
      ]
     },
     "metadata": {},
     "output_type": "display_data"
    },
    {
     "data": {
      "application/vnd.jupyter.widget-view+json": {
       "model_id": "8de20127417d4f14a8a4ab2ec8feb1c6",
       "version_major": 2,
       "version_minor": 0
      },
      "text/plain": [
       "HBox(children=(VBox(children=(HBox(children=(Text(value='', layout=Layout(width='95%'), placeholder='Search fo…"
      ]
     },
     "metadata": {},
     "output_type": "display_data"
    },
    {
     "data": {
      "text/markdown": [
       "## Diagramm für Annual CO₂ emissions from flaring"
      ],
      "text/plain": [
       "<IPython.core.display.Markdown object>"
      ]
     },
     "metadata": {},
     "output_type": "display_data"
    },
    {
     "data": {
      "application/vnd.jupyter.widget-view+json": {
       "model_id": "d2de21581b7a47c5935834ac48a7f15a",
       "version_major": 2,
       "version_minor": 0
      },
      "text/plain": [
       "HBox(children=(VBox(children=(HBox(children=(Text(value='', layout=Layout(width='95%'), placeholder='Search fo…"
      ]
     },
     "metadata": {},
     "output_type": "display_data"
    },
    {
     "data": {
      "text/markdown": [
       "## Diagramm für Annual CO₂ emissions from gas"
      ],
      "text/plain": [
       "<IPython.core.display.Markdown object>"
      ]
     },
     "metadata": {},
     "output_type": "display_data"
    },
    {
     "data": {
      "application/vnd.jupyter.widget-view+json": {
       "model_id": "d2b8c80d4b3348bb84fc6d38daaf6244",
       "version_major": 2,
       "version_minor": 0
      },
      "text/plain": [
       "HBox(children=(VBox(children=(HBox(children=(Text(value='', layout=Layout(width='95%'), placeholder='Search fo…"
      ]
     },
     "metadata": {},
     "output_type": "display_data"
    },
    {
     "data": {
      "text/markdown": [
       "## Diagramm für Annual CO₂ emissions from oil"
      ],
      "text/plain": [
       "<IPython.core.display.Markdown object>"
      ]
     },
     "metadata": {},
     "output_type": "display_data"
    },
    {
     "data": {
      "application/vnd.jupyter.widget-view+json": {
       "model_id": "6782ebafae934d969d1aa658ac88ab88",
       "version_major": 2,
       "version_minor": 0
      },
      "text/plain": [
       "HBox(children=(VBox(children=(HBox(children=(Text(value='', layout=Layout(width='95%'), placeholder='Search fo…"
      ]
     },
     "metadata": {},
     "output_type": "display_data"
    },
    {
     "data": {
      "text/markdown": [
       "## Diagramm für Annual CO₂ emissions from coal"
      ],
      "text/plain": [
       "<IPython.core.display.Markdown object>"
      ]
     },
     "metadata": {},
     "output_type": "display_data"
    },
    {
     "data": {
      "application/vnd.jupyter.widget-view+json": {
       "model_id": "ff2233ea45fb44b291afd3a5b2a8b38a",
       "version_major": 2,
       "version_minor": 0
      },
      "text/plain": [
       "HBox(children=(VBox(children=(HBox(children=(Text(value='', layout=Layout(width='95%'), placeholder='Search fo…"
      ]
     },
     "metadata": {},
     "output_type": "display_data"
    },
    {
     "data": {
      "text/markdown": [
       "## Diagramm für Primary energy consumption (TWh)"
      ],
      "text/plain": [
       "<IPython.core.display.Markdown object>"
      ]
     },
     "metadata": {},
     "output_type": "display_data"
    },
    {
     "data": {
      "application/vnd.jupyter.widget-view+json": {
       "model_id": "2dd9b9670606470481e4965b35960deb",
       "version_major": 2,
       "version_minor": 0
      },
      "text/plain": [
       "HBox(children=(VBox(children=(HBox(children=(Text(value='', layout=Layout(width='95%'), placeholder='Search fo…"
      ]
     },
     "metadata": {},
     "output_type": "display_data"
    },
    {
     "data": {
      "text/markdown": [
       "## Diagramm für Change in global mean surface temperature caused by greenhouse gas emissions from fossil fuels and industry"
      ],
      "text/plain": [
       "<IPython.core.display.Markdown object>"
      ]
     },
     "metadata": {},
     "output_type": "display_data"
    },
    {
     "data": {
      "application/vnd.jupyter.widget-view+json": {
       "model_id": "f017c175224842b392c438f7c1587d01",
       "version_major": 2,
       "version_minor": 0
      },
      "text/plain": [
       "HBox(children=(VBox(children=(HBox(children=(Text(value='', layout=Layout(width='95%'), placeholder='Search fo…"
      ]
     },
     "metadata": {},
     "output_type": "display_data"
    },
    {
     "data": {
      "text/markdown": [
       "## Diagramm für Annual greenhouse gas emissions in CO2 equivalents in tons"
      ],
      "text/plain": [
       "<IPython.core.display.Markdown object>"
      ]
     },
     "metadata": {},
     "output_type": "display_data"
    },
    {
     "data": {
      "application/vnd.jupyter.widget-view+json": {
       "model_id": "705655e97eea4f75af1d2856b42a06a1",
       "version_major": 2,
       "version_minor": 0
      },
      "text/plain": [
       "HBox(children=(VBox(children=(HBox(children=(Text(value='', layout=Layout(width='95%'), placeholder='Search fo…"
      ]
     },
     "metadata": {},
     "output_type": "display_data"
    },
    {
     "data": {
      "text/markdown": [
       "## Diagramm für Electricity from fossil fuels (TWh)"
      ],
      "text/plain": [
       "<IPython.core.display.Markdown object>"
      ]
     },
     "metadata": {},
     "output_type": "display_data"
    },
    {
     "data": {
      "application/vnd.jupyter.widget-view+json": {
       "model_id": "8505e56018ac48228a74cf03387ff98e",
       "version_major": 2,
       "version_minor": 0
      },
      "text/plain": [
       "HBox(children=(VBox(children=(HBox(children=(Text(value='', layout=Layout(width='95%'), placeholder='Search fo…"
      ]
     },
     "metadata": {},
     "output_type": "display_data"
    },
    {
     "data": {
      "text/markdown": [
       "## Diagramm für Other renewables excluding bioenergy (TWh)"
      ],
      "text/plain": [
       "<IPython.core.display.Markdown object>"
      ]
     },
     "metadata": {},
     "output_type": "display_data"
    },
    {
     "data": {
      "application/vnd.jupyter.widget-view+json": {
       "model_id": "3c3420adb43a4396aecbd6b1650b0ca7",
       "version_major": 2,
       "version_minor": 0
      },
      "text/plain": [
       "HBox(children=(VBox(children=(HBox(children=(Text(value='', layout=Layout(width='95%'), placeholder='Search fo…"
      ]
     },
     "metadata": {},
     "output_type": "display_data"
    },
    {
     "data": {
      "text/markdown": [
       "## Diagramm für Oil consumption - TWh"
      ],
      "text/plain": [
       "<IPython.core.display.Markdown object>"
      ]
     },
     "metadata": {},
     "output_type": "display_data"
    },
    {
     "data": {
      "application/vnd.jupyter.widget-view+json": {
       "model_id": "5fbc22f6e0f5412185547b823192db00",
       "version_major": 2,
       "version_minor": 0
      },
      "text/plain": [
       "HBox(children=(VBox(children=(HBox(children=(Text(value='', layout=Layout(width='95%'), placeholder='Search fo…"
      ]
     },
     "metadata": {},
     "output_type": "display_data"
    },
    {
     "data": {
      "text/markdown": [
       "## Diagramm für Primary energy consumption per GDP (kWh/$)"
      ],
      "text/plain": [
       "<IPython.core.display.Markdown object>"
      ]
     },
     "metadata": {},
     "output_type": "display_data"
    },
    {
     "data": {
      "application/vnd.jupyter.widget-view+json": {
       "model_id": "f1cb2565fe244558a6bb68fb589e7725",
       "version_major": 2,
       "version_minor": 0
      },
      "text/plain": [
       "HBox(children=(VBox(children=(HBox(children=(Text(value='', layout=Layout(width='95%'), placeholder='Search fo…"
      ]
     },
     "metadata": {},
     "output_type": "display_data"
    },
    {
     "data": {
      "text/markdown": [
       "## Diagramm für Low-carbon electricity (TWh)"
      ],
      "text/plain": [
       "<IPython.core.display.Markdown object>"
      ]
     },
     "metadata": {},
     "output_type": "display_data"
    },
    {
     "data": {
      "application/vnd.jupyter.widget-view+json": {
       "model_id": "a44e854cf38b489898eac6231c2efe19",
       "version_major": 2,
       "version_minor": 0
      },
      "text/plain": [
       "HBox(children=(VBox(children=(HBox(children=(Text(value='', layout=Layout(width='95%'), placeholder='Search fo…"
      ]
     },
     "metadata": {},
     "output_type": "display_data"
    },
    {
     "data": {
      "text/markdown": [
       "## Diagramm für GDP (constant 2015 US$)"
      ],
      "text/plain": [
       "<IPython.core.display.Markdown object>"
      ]
     },
     "metadata": {},
     "output_type": "display_data"
    },
    {
     "data": {
      "application/vnd.jupyter.widget-view+json": {
       "model_id": "580c5d3003f74890b1a6e1d2339ff1d8",
       "version_major": 2,
       "version_minor": 0
      },
      "text/plain": [
       "HBox(children=(VBox(children=(HBox(children=(Text(value='', layout=Layout(width='95%'), placeholder='Search fo…"
      ]
     },
     "metadata": {},
     "output_type": "display_data"
    },
    {
     "data": {
      "text/markdown": [
       "## Diagramm für Renewable electricity (% electricity production) (World Bank (2015))"
      ],
      "text/plain": [
       "<IPython.core.display.Markdown object>"
      ]
     },
     "metadata": {},
     "output_type": "display_data"
    },
    {
     "data": {
      "application/vnd.jupyter.widget-view+json": {
       "model_id": "0fa876c1131746aa8384318670911dee",
       "version_major": 2,
       "version_minor": 0
      },
      "text/plain": [
       "HBox(children=(VBox(children=(HBox(children=(Text(value='', layout=Layout(width='95%'), placeholder='Search fo…"
      ]
     },
     "metadata": {},
     "output_type": "display_data"
    },
    {
     "data": {
      "text/markdown": [
       "## Diagramm für Solar photovoltaic capacity"
      ],
      "text/plain": [
       "<IPython.core.display.Markdown object>"
      ]
     },
     "metadata": {},
     "output_type": "display_data"
    },
    {
     "data": {
      "application/vnd.jupyter.widget-view+json": {
       "model_id": "e52f9e65fabb430e877e38f6e8a31039",
       "version_major": 2,
       "version_minor": 0
      },
      "text/plain": [
       "HBox(children=(VBox(children=(HBox(children=(Text(value='', layout=Layout(width='95%'), placeholder='Search fo…"
      ]
     },
     "metadata": {},
     "output_type": "display_data"
    },
    {
     "data": {
      "text/markdown": [
       "## Diagramm für Annual greenhouse gas emissions in CO2 equivalents"
      ],
      "text/plain": [
       "<IPython.core.display.Markdown object>"
      ]
     },
     "metadata": {},
     "output_type": "display_data"
    },
    {
     "data": {
      "application/vnd.jupyter.widget-view+json": {
       "model_id": "1e252048b29949acb236c503e9570d6b",
       "version_major": 2,
       "version_minor": 0
      },
      "text/plain": [
       "HBox(children=(VBox(children=(HBox(children=(Text(value='', layout=Layout(width='95%'), placeholder='Search fo…"
      ]
     },
     "metadata": {},
     "output_type": "display_data"
    },
    {
     "data": {
      "text/markdown": [
       "## Diagramm für Continent"
      ],
      "text/plain": [
       "<IPython.core.display.Markdown object>"
      ]
     },
     "metadata": {},
     "output_type": "display_data"
    },
    {
     "data": {
      "application/vnd.jupyter.widget-view+json": {
       "model_id": "c5fa04cb7b614d66b01c95d0eb3e1976",
       "version_major": 2,
       "version_minor": 0
      },
      "text/plain": [
       "HBox(children=(VBox(children=(HBox(children=(Text(value='', layout=Layout(width='95%'), placeholder='Search fo…"
      ]
     },
     "metadata": {},
     "output_type": "display_data"
    },
    {
     "data": {
      "text/markdown": [
       "## Diagramm für Electricity from wind (TWh)"
      ],
      "text/plain": [
       "<IPython.core.display.Markdown object>"
      ]
     },
     "metadata": {},
     "output_type": "display_data"
    },
    {
     "data": {
      "application/vnd.jupyter.widget-view+json": {
       "model_id": "e04a8eefc49149e5a4630c094767b610",
       "version_major": 2,
       "version_minor": 0
      },
      "text/plain": [
       "HBox(children=(VBox(children=(HBox(children=(Text(value='', layout=Layout(width='95%'), placeholder='Search fo…"
      ]
     },
     "metadata": {},
     "output_type": "display_data"
    },
    {
     "data": {
      "text/html": [
       "\n",
       "<style>\n",
       "    :root {\n",
       "        --jp-widgets-inline-label-width: auto !important;\n",
       "    }\n",
       "</style>\n"
      ],
      "text/plain": [
       "<IPython.core.display.HTML object>"
      ]
     },
     "metadata": {},
     "output_type": "display_data"
    }
   ],
   "source": [
    "import pandas as pd\n",
    "import plotly.graph_objects as go\n",
    "import ipywidgets as widgets\n",
    "from IPython.display import display, clear_output, Markdown\n",
    "from IPython.core.display import HTML\n",
    "\n",
    "# Presuming df_main is already available\n",
    "filtered_df = df_main\n",
    "\n",
    "# Extract unique countries from the dataframe\n",
    "all_countries = sorted(filtered_df['Entity'].drop_duplicates().astype(str).tolist())\n",
    "default_countries = ['Germany', 'China', 'India', 'United States', 'World']\n",
    "left_container_width = '270px'\n",
    "\n",
    "def create_interface_for_column(column):\n",
    "    # Local functions to keep independence of widgets\n",
    "    def update_country_list(*args):\n",
    "        selected_countries = [cb.description for cb in local_checkboxes_container.children if cb.value]\n",
    "        search_input = local_search_box.value\n",
    "        search_results = [country for country in all_countries if search_input.lower() in country.lower()]\n",
    "        updated_countries = list(set(search_results + selected_countries))\n",
    "        updated_countries = sorted(updated_countries, key=lambda x: (x not in selected_countries, x))\n",
    "        updated_checkboxes = [widgets.Checkbox(value=(country in selected_countries), description=country,\n",
    "                                               layout=widgets.Layout(width=\"100%\", padding=\"0px\")) for country in updated_countries]\n",
    "        for cb in updated_checkboxes:\n",
    "            cb.observe(plot_for_column, names='value')\n",
    "        local_checkboxes_container.children = tuple(updated_checkboxes)\n",
    "        plot_for_column()  # Call plot function every time checkboxes are updated\n",
    "\n",
    "    def plot_for_column(change=None):\n",
    "        selected_countries = [cb.description for cb in local_checkboxes_container.children if cb.value]\n",
    "        sorted_checkboxes = sorted(local_checkboxes_container.children, key=lambda cb: (cb.description not in selected_countries, cb.description))\n",
    "        local_checkboxes_container.children = tuple(sorted_checkboxes)\n",
    "        with local_out:\n",
    "            clear_output(wait=True)\n",
    "            fig = go.Figure()\n",
    "            fig_height = 400  \n",
    "            fig.update_layout(height=fig_height)\n",
    "            for country in selected_countries:\n",
    "                country_data = filtered_df[filtered_df['Entity'] == country]\n",
    "                fig.add_trace(go.Scatter(x=country_data['Year'], y=country_data[column], mode='lines', name=country, showlegend=True))\n",
    "            fig.update_layout(title=column, xaxis_title='Year', yaxis_title=column, plot_bgcolor='white', paper_bgcolor='white')\n",
    "            fig.show()\n",
    "\n",
    "    # Local search box and checkboxes for each column\n",
    "    local_search_box = widgets.Text(value='', placeholder='Search for Countries...', description='', layout=widgets.Layout(width=\"95%\"))\n",
    "    local_search_box.observe(update_country_list, names='value')\n",
    "    local_clear_button = widgets.Button(description=\"X\", layout=widgets.Layout(width=\"5%\"))\n",
    "    local_clear_button.on_click(lambda change: setattr(local_search_box, 'value', ''))\n",
    "    \n",
    "    local_country_checkboxes = [widgets.Checkbox(value=(country in default_countries), description=country,\n",
    "                                                 layout=widgets.Layout(width=\"100%\", padding=\"0px\")) for country in all_countries]\n",
    "    local_checkboxes_container = widgets.VBox(local_country_checkboxes, layout=widgets.Layout(overflow_y=\"scroll\", height=\"400px\", border=\"1px solid #DDD\"))\n",
    "\n",
    "    local_left_container = widgets.VBox([widgets.HBox([local_search_box, local_clear_button]), local_checkboxes_container],\n",
    "                                        layout=widgets.Layout(width=left_container_width, border=\"1px solid #DDD\", padding=\"5px 0px 0px 0px\"))\n",
    "\n",
    "    local_out = widgets.Output(layout=widgets.Layout(height=\"400px\", width=\"60%\"))\n",
    "    \n",
    "    # Displaying the UI for the column\n",
    "    display(Markdown(f\"## Diagramm für {column}\"))\n",
    "    display(widgets.HBox([local_left_container, local_out]))\n",
    "    plot_for_column()\n",
    "\n",
    "# Für jede Spalte, die Sie plotten möchten:\n",
    "columns_to_plot = filtered_df.columns[filtered_df.columns.get_loc('Code')+1:]\n",
    "for col in columns_to_plot:\n",
    "    create_interface_for_column(col)\n",
    "\n",
    "display(HTML(\"\"\"\n",
    "<style>\n",
    "    :root {\n",
    "        --jp-widgets-inline-label-width: auto !important;\n",
    "    }\n",
    "</style>\n",
    "\"\"\"))\n"
   ]
  },
  {
   "cell_type": "code",
   "execution_count": null,
   "id": "942bc1fc-e5cc-446f-a2b4-57c52e7bc5b2",
   "metadata": {},
   "outputs": [],
   "source": []
  }
 ],
 "metadata": {
  "kernelspec": {
   "display_name": "Python 3 (ipykernel)",
   "language": "python",
   "name": "python3"
  },
  "language_info": {
   "codemirror_mode": {
    "name": "ipython",
    "version": 3
   },
   "file_extension": ".py",
   "mimetype": "text/x-python",
   "name": "python",
   "nbconvert_exporter": "python",
   "pygments_lexer": "ipython3",
   "version": "3.11.5"
  }
 },
 "nbformat": 4,
 "nbformat_minor": 5
}
