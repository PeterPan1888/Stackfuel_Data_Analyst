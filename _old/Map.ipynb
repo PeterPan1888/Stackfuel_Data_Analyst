{
 "cells": [
  {
   "cell_type": "code",
   "execution_count": 1,
   "id": "563f41cf-d3ea-4b86-978e-7422c237e691",
   "metadata": {
    "tags": []
   },
   "outputs": [
    {
     "data": {
      "application/vnd.jupyter.widget-view+json": {
       "model_id": "ec3dbf19a53141519e4f25285292073c",
       "version_major": 2,
       "version_minor": 0
      },
      "text/plain": [
       "interactive(children=(Dropdown(description='Select Column:', options=('Annual CO₂ emissions', 'Renewables (TWh…"
      ]
     },
     "metadata": {},
     "output_type": "display_data"
    }
   ],
   "source": [
    "import pandas as pd\n",
    "import plotly.express as px\n",
    "import ipywidgets as widgets\n",
    "from IPython.display import display\n",
    "\n",
    "# Data Import: Load Excel file into DataFrame\n",
    "file_path = \"09_Outputs/main_data.xlsx\"\n",
    "df_main = pd.read_excel(file_path)\n",
    "\n",
    "# Remove quotation marks from the 'Entity' column\n",
    "df_main['Entity'] = df_main['Entity'].str.replace('\"', '')\n",
    "\n",
    "# Remove continents and 'World' to create choro_df (customize this list as needed)\n",
    "continents_and_world = ['Africa', 'Asia', 'Europe', 'North America', 'Oceania', 'South America', 'Antarctica', 'World']\n",
    "choro_df = df_main[~df_main['Entity'].isin(continents_and_world)]\n",
    "\n",
    "\n",
    "# Fixed reference columns\n",
    "fixed_columns = ['Entity', 'Year', 'Code']\n",
    "\n",
    "# List of columns to visualize (excluding the fixed columns)\n",
    "columns_to_visualize = [col for col in choro_df.columns if col not in fixed_columns]\n",
    "\n",
    "# Function to create interactive choropleth map\n",
    "def plot_choropleth(selected_column):\n",
    "    df_filtered = choro_df[choro_df[selected_column].notna()]\n",
    "    last_valid_year = df_filtered['Year'].max()\n",
    "    \n",
    "    # Get Top-5 countries for the last available year\n",
    "    df_top5 = df_filtered[df_filtered['Year'] == last_valid_year]\n",
    "    df_top5 = df_top5.nlargest(5, selected_column)\n",
    "    \n",
    "    print(f\"Top 5 countries in {last_valid_year} for {selected_column}:\")\n",
    "    print(df_top5[['Entity', selected_column]])\n",
    "    \n",
    "    fig = px.choropleth(df_filtered.sort_values(by='Year', ascending=False),  # Sort data by Year in descending order\n",
    "                        locations='Code',\n",
    "                        color=selected_column,\n",
    "                        hover_name='Entity',\n",
    "                        animation_frame='Year',\n",
    "                        title=f\"Choropleth of {selected_column}\",\n",
    "                        color_continuous_scale=px.colors.sequential.Plasma)\n",
    "    \n",
    "    fig.update_layout(autosize=False, width=1000, height=600)\n",
    "    fig.show()\n",
    "\n",
    "# Dropdown menu: Column selection for visualization\n",
    "dropdown = widgets.Dropdown(options=columns_to_visualize, description='Select Column:', value=columns_to_visualize[0])\n",
    "\n",
    "# Interactive visualization\n",
    "interactive_plot = widgets.interactive(plot_choropleth, selected_column=dropdown)\n",
    "display(interactive_plot)\n",
    "\n",
    "\n"
   ]
  }
 ],
 "metadata": {
  "kernelspec": {
   "display_name": "Python 3 (ipykernel)",
   "language": "python",
   "name": "python3"
  },
  "language_info": {
   "codemirror_mode": {
    "name": "ipython",
    "version": 3
   },
   "file_extension": ".py",
   "mimetype": "text/x-python",
   "name": "python",
   "nbconvert_exporter": "python",
   "pygments_lexer": "ipython3",
   "version": "3.11.5"
  }
 },
 "nbformat": 4,
 "nbformat_minor": 5
}
