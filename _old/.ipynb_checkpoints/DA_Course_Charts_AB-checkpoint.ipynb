{
 "cells": [
  {
   "cell_type": "code",
   "execution_count": 5,
   "id": "26e2dd02-de1a-4d75-999b-a56776d132a2",
   "metadata": {
    "tags": []
   },
   "outputs": [
    {
     "data": {
      "text/html": [
       "<div>\n",
       "<style scoped>\n",
       "    .dataframe tbody tr th:only-of-type {\n",
       "        vertical-align: middle;\n",
       "    }\n",
       "\n",
       "    .dataframe tbody tr th {\n",
       "        vertical-align: top;\n",
       "    }\n",
       "\n",
       "    .dataframe thead th {\n",
       "        text-align: right;\n",
       "    }\n",
       "</style>\n",
       "<table border=\"1\" class=\"dataframe\">\n",
       "  <thead>\n",
       "    <tr style=\"text-align: right;\">\n",
       "      <th></th>\n",
       "      <th>Entity</th>\n",
       "      <th>Year</th>\n",
       "      <th>Code</th>\n",
       "      <th>Annual CO₂ emissions in tons</th>\n",
       "      <th>Renewables - TWh growth - equivalent</th>\n",
       "      <th>Annual CO₂ emissions from flaring</th>\n",
       "      <th>Annual CO₂ emissions from gas</th>\n",
       "      <th>Annual CO₂ emissions from oil</th>\n",
       "      <th>Annual CO₂ emissions from coal</th>\n",
       "      <th>Primary energy consumption (TWh)</th>\n",
       "      <th>...</th>\n",
       "      <th>Other renewables excluding bioenergy (TWh)</th>\n",
       "      <th>Oil consumption - TWh</th>\n",
       "      <th>Primary energy consumption per GDP (kWh/$)</th>\n",
       "      <th>Low-carbon electricity (TWh)</th>\n",
       "      <th>GDP (constant 2015 US$)</th>\n",
       "      <th>Renewable electricity (% electricity production) (World Bank (2015))</th>\n",
       "      <th>Solar photovoltaic capacity</th>\n",
       "      <th>Annual greenhouse gas emissions in CO2 equivalents</th>\n",
       "      <th>Continent</th>\n",
       "      <th>Electricity from wind (TWh)</th>\n",
       "    </tr>\n",
       "  </thead>\n",
       "  <tbody>\n",
       "    <tr>\n",
       "      <th>0</th>\n",
       "      <td>Afghanistan</td>\n",
       "      <td>1965</td>\n",
       "      <td>AFG</td>\n",
       "      <td>1006917.0</td>\n",
       "      <td>NaN</td>\n",
       "      <td>0.0</td>\n",
       "      <td>0.0</td>\n",
       "      <td>542272.0</td>\n",
       "      <td>381056.0</td>\n",
       "      <td>NaN</td>\n",
       "      <td>...</td>\n",
       "      <td>NaN</td>\n",
       "      <td>NaN</td>\n",
       "      <td>NaN</td>\n",
       "      <td>NaN</td>\n",
       "      <td>NaN</td>\n",
       "      <td>NaN</td>\n",
       "      <td>NaN</td>\n",
       "      <td>24430504.0</td>\n",
       "      <td>NaN</td>\n",
       "      <td>NaN</td>\n",
       "    </tr>\n",
       "    <tr>\n",
       "      <th>1</th>\n",
       "      <td>Afghanistan</td>\n",
       "      <td>1966</td>\n",
       "      <td>AFG</td>\n",
       "      <td>1091159.0</td>\n",
       "      <td>NaN</td>\n",
       "      <td>0.0</td>\n",
       "      <td>0.0</td>\n",
       "      <td>575248.0</td>\n",
       "      <td>428688.0</td>\n",
       "      <td>NaN</td>\n",
       "      <td>...</td>\n",
       "      <td>NaN</td>\n",
       "      <td>NaN</td>\n",
       "      <td>NaN</td>\n",
       "      <td>NaN</td>\n",
       "      <td>NaN</td>\n",
       "      <td>NaN</td>\n",
       "      <td>NaN</td>\n",
       "      <td>25174948.0</td>\n",
       "      <td>NaN</td>\n",
       "      <td>NaN</td>\n",
       "    </tr>\n",
       "    <tr>\n",
       "      <th>2</th>\n",
       "      <td>Afghanistan</td>\n",
       "      <td>1967</td>\n",
       "      <td>AFG</td>\n",
       "      <td>1281865.0</td>\n",
       "      <td>NaN</td>\n",
       "      <td>0.0</td>\n",
       "      <td>260144.0</td>\n",
       "      <td>556928.0</td>\n",
       "      <td>399376.0</td>\n",
       "      <td>NaN</td>\n",
       "      <td>...</td>\n",
       "      <td>NaN</td>\n",
       "      <td>NaN</td>\n",
       "      <td>NaN</td>\n",
       "      <td>NaN</td>\n",
       "      <td>NaN</td>\n",
       "      <td>NaN</td>\n",
       "      <td>NaN</td>\n",
       "      <td>24644464.0</td>\n",
       "      <td>NaN</td>\n",
       "      <td>NaN</td>\n",
       "    </tr>\n",
       "    <tr>\n",
       "      <th>3</th>\n",
       "      <td>Afghanistan</td>\n",
       "      <td>1968</td>\n",
       "      <td>AFG</td>\n",
       "      <td>1223391.0</td>\n",
       "      <td>NaN</td>\n",
       "      <td>0.0</td>\n",
       "      <td>347041.0</td>\n",
       "      <td>496817.0</td>\n",
       "      <td>332429.0</td>\n",
       "      <td>NaN</td>\n",
       "      <td>...</td>\n",
       "      <td>NaN</td>\n",
       "      <td>NaN</td>\n",
       "      <td>NaN</td>\n",
       "      <td>NaN</td>\n",
       "      <td>NaN</td>\n",
       "      <td>NaN</td>\n",
       "      <td>NaN</td>\n",
       "      <td>24382198.0</td>\n",
       "      <td>NaN</td>\n",
       "      <td>NaN</td>\n",
       "    </tr>\n",
       "    <tr>\n",
       "      <th>4</th>\n",
       "      <td>Afghanistan</td>\n",
       "      <td>1969</td>\n",
       "      <td>AFG</td>\n",
       "      <td>941232.0</td>\n",
       "      <td>NaN</td>\n",
       "      <td>0.0</td>\n",
       "      <td>0.0</td>\n",
       "      <td>527616.0</td>\n",
       "      <td>362736.0</td>\n",
       "      <td>NaN</td>\n",
       "      <td>...</td>\n",
       "      <td>NaN</td>\n",
       "      <td>NaN</td>\n",
       "      <td>NaN</td>\n",
       "      <td>NaN</td>\n",
       "      <td>NaN</td>\n",
       "      <td>NaN</td>\n",
       "      <td>NaN</td>\n",
       "      <td>23233260.0</td>\n",
       "      <td>NaN</td>\n",
       "      <td>NaN</td>\n",
       "    </tr>\n",
       "  </tbody>\n",
       "</table>\n",
       "<p>5 rows × 23 columns</p>\n",
       "</div>"
      ],
      "text/plain": [
       "        Entity  Year Code  Annual CO₂ emissions in tons  \\\n",
       "0  Afghanistan  1965  AFG                     1006917.0   \n",
       "1  Afghanistan  1966  AFG                     1091159.0   \n",
       "2  Afghanistan  1967  AFG                     1281865.0   \n",
       "3  Afghanistan  1968  AFG                     1223391.0   \n",
       "4  Afghanistan  1969  AFG                      941232.0   \n",
       "\n",
       "   Renewables - TWh growth - equivalent  Annual CO₂ emissions from flaring  \\\n",
       "0                                   NaN                                0.0   \n",
       "1                                   NaN                                0.0   \n",
       "2                                   NaN                                0.0   \n",
       "3                                   NaN                                0.0   \n",
       "4                                   NaN                                0.0   \n",
       "\n",
       "   Annual CO₂ emissions from gas  Annual CO₂ emissions from oil  \\\n",
       "0                            0.0                       542272.0   \n",
       "1                            0.0                       575248.0   \n",
       "2                       260144.0                       556928.0   \n",
       "3                       347041.0                       496817.0   \n",
       "4                            0.0                       527616.0   \n",
       "\n",
       "   Annual CO₂ emissions from coal  Primary energy consumption (TWh)  ...  \\\n",
       "0                        381056.0                               NaN  ...   \n",
       "1                        428688.0                               NaN  ...   \n",
       "2                        399376.0                               NaN  ...   \n",
       "3                        332429.0                               NaN  ...   \n",
       "4                        362736.0                               NaN  ...   \n",
       "\n",
       "   Other renewables excluding bioenergy (TWh)  Oil consumption - TWh  \\\n",
       "0                                         NaN                    NaN   \n",
       "1                                         NaN                    NaN   \n",
       "2                                         NaN                    NaN   \n",
       "3                                         NaN                    NaN   \n",
       "4                                         NaN                    NaN   \n",
       "\n",
       "   Primary energy consumption per GDP (kWh/$)  Low-carbon electricity (TWh)  \\\n",
       "0                                         NaN                           NaN   \n",
       "1                                         NaN                           NaN   \n",
       "2                                         NaN                           NaN   \n",
       "3                                         NaN                           NaN   \n",
       "4                                         NaN                           NaN   \n",
       "\n",
       "   GDP (constant 2015 US$)  \\\n",
       "0                      NaN   \n",
       "1                      NaN   \n",
       "2                      NaN   \n",
       "3                      NaN   \n",
       "4                      NaN   \n",
       "\n",
       "   Renewable electricity (% electricity production) (World Bank (2015))  \\\n",
       "0                                                NaN                      \n",
       "1                                                NaN                      \n",
       "2                                                NaN                      \n",
       "3                                                NaN                      \n",
       "4                                                NaN                      \n",
       "\n",
       "   Solar photovoltaic capacity  \\\n",
       "0                          NaN   \n",
       "1                          NaN   \n",
       "2                          NaN   \n",
       "3                          NaN   \n",
       "4                          NaN   \n",
       "\n",
       "   Annual greenhouse gas emissions in CO2 equivalents  Continent  \\\n",
       "0                                         24430504.0         NaN   \n",
       "1                                         25174948.0         NaN   \n",
       "2                                         24644464.0         NaN   \n",
       "3                                         24382198.0         NaN   \n",
       "4                                         23233260.0         NaN   \n",
       "\n",
       "   Electricity from wind (TWh)  \n",
       "0                          NaN  \n",
       "1                          NaN  \n",
       "2                          NaN  \n",
       "3                          NaN  \n",
       "4                          NaN  \n",
       "\n",
       "[5 rows x 23 columns]"
      ]
     },
     "execution_count": 5,
     "metadata": {},
     "output_type": "execute_result"
    }
   ],
   "source": [
    "import pandas as pd\n",
    "\n",
    "# Specify the path to your Excel file\n",
    "file_path = r\"09_Outputs\\main_data.xlsx\"\n",
    "\n",
    "# Load the Excel file into a DataFrame using the openpyxl engine\n",
    "df_main = pd.read_excel(file_path, engine='openpyxl')\n",
    "\n",
    "# Remove quotation marks from the 'Entity' column\n",
    "df_main['Entity'] = df_main['Entity'].str.replace('\"', '')\n",
    "\n",
    "# Retrieve unique countries from the DataFrame and store them as a list of strings\n",
    "all_countries = df_main['Entity'].drop_duplicates().astype(str).tolist()\n",
    "\n",
    "# Display the first 5 rows of the DataFrame for a quick overview\n",
    "df_main.head()\n"
   ]
  },
  {
   "cell_type": "code",
   "execution_count": null,
   "id": "28af9648-bb4c-493b-816c-ac56f8463b17",
   "metadata": {
    "tags": []
   },
   "outputs": [],
   "source": [
    "# Example Filter the DataFrame for Germany\n",
    "germany_df = df_main[df_main['Entity'] == \"Germany\"]\n",
    "\n",
    "# Display the DataFrame for Germany\n",
    "germany_df.head()\n",
    "\n"
   ]
  },
  {
   "cell_type": "code",
   "execution_count": null,
   "id": "64ab110b-3238-4143-93bf-0c5f1b80abf3",
   "metadata": {
    "tags": []
   },
   "outputs": [],
   "source": [
    "## Easy Testplot\n",
    "import pandas as pd\n",
    "import matplotlib.pyplot as plt\n",
    "\n",
    "# Filter the DataFrame for the desired countries\n",
    "countries = ['Germany', 'China', 'India', 'United States', 'World']\n",
    "filtered_df = df_main[df_main.iloc[:, 0].isin(countries)]\n",
    "\n",
    "# Create a plot\n",
    "plt.figure(figsize=(12, 8))\n",
    "\n",
    "# Plot the data for each country\n",
    "for country in countries:\n",
    "    country_data = filtered_df[filtered_df.iloc[:, 0] == country]\n",
    "    plt.plot(country_data.iloc[:, 1], country_data.iloc[:, 3], label=country)\n",
    "\n",
    "plt.title('Annual CO₂ Emissions')\n",
    "plt.xlabel('Year')\n",
    "plt.ylabel('Annual CO₂ Emissions')\n",
    "plt.legend()\n",
    "plt.grid(True)\n",
    "plt.tight_layout()\n",
    "plt.show()\n"
   ]
  },
  {
   "cell_type": "code",
   "execution_count": null,
   "id": "3a5a1d8e-a588-40c1-9f13-84b826d7053c",
   "metadata": {
    "tags": []
   },
   "outputs": [],
   "source": [
    "## Zeige deskriptive Statistiken\n",
    "#print(df_main.describe())\n",
    "#\n",
    "## Zeige die ersten Zeilen des DataFrames\n",
    "#print(df_main.head())\n",
    "#\n",
    "## Zeige die Datentypen jeder Spalte\n",
    "#print(df_main.dtypes)\n",
    "#"
   ]
  },
  {
   "cell_type": "code",
   "execution_count": null,
   "id": "6d0fe0b5-c1cd-4b7e-9f5c-94d17eebae39",
   "metadata": {
    "tags": []
   },
   "outputs": [],
   "source": [
    "## Sample\n",
    "\n",
    "subset = df_main.iloc[:5, :5]\n",
    "display(subset)\n",
    "\n"
   ]
  },
  {
   "cell_type": "code",
   "execution_count": null,
   "id": "327315b5-b749-469d-aa39-e73a246ace2b",
   "metadata": {
    "tags": []
   },
   "outputs": [],
   "source": [
    "print(all_countries[:7])\n"
   ]
  },
  {
   "cell_type": "code",
   "execution_count": null,
   "id": "b8161d8a-d6e2-41f2-ab0f-272ff8b86375",
   "metadata": {
    "tags": []
   },
   "outputs": [],
   "source": [
    "df_main.dtypes\n"
   ]
  },
  {
   "cell_type": "code",
   "execution_count": null,
   "id": "1f1953b3-05b8-4451-b5a8-06229a6a5088",
   "metadata": {
    "tags": []
   },
   "outputs": [],
   "source": [
    "print(df_main.columns)\n"
   ]
  },
  {
   "cell_type": "code",
   "execution_count": null,
   "id": "3537e538-acfb-48ac-a0f4-02891f92664f",
   "metadata": {},
   "outputs": [],
   "source": []
  },
  {
   "cell_type": "code",
   "execution_count": 7,
   "id": "f3f6e3d2-b51c-4ed6-a5aa-4cc78893e2b0",
   "metadata": {
    "tags": []
   },
   "outputs": [
    {
     "data": {
      "text/html": [
       "\n",
       "<style>\n",
       "    :root {\n",
       "        --jp-widgets-inline-label-width: auto !important;\n",
       "    }\n",
       "</style>\n"
      ],
      "text/plain": [
       "<IPython.core.display.HTML object>"
      ]
     },
     "metadata": {},
     "output_type": "display_data"
    },
    {
     "data": {
      "application/vnd.jupyter.widget-view+json": {
       "model_id": "463141a1178f476ebf8ff12613b81afb",
       "version_major": 2,
       "version_minor": 0
      },
      "text/plain": [
       "HBox(children=(VBox(children=(HBox(children=(Text(value='', layout=Layout(width='95%'), placeholder='Search fo…"
      ]
     },
     "metadata": {},
     "output_type": "display_data"
    }
   ],
   "source": [
    "import pandas as pd\n",
    "import plotly.graph_objects as go\n",
    "import ipywidgets as widgets\n",
    "from IPython.display import display, clear_output\n",
    "from IPython.core.display import HTML\n",
    "\n",
    "\n",
    "\n",
    "# Presuming df_main is already available\n",
    "filtered_df = df_main\n",
    "\n",
    "# Extract unique countries from the dataframe\n",
    "all_countries = sorted(filtered_df['Entity'].drop_duplicates().astype(str).tolist())\n",
    "\n",
    "# Set a default list of countries for the user interface\n",
    "default_countries = ['Germany', 'China', 'India', 'United States', 'World']\n",
    "\n",
    "# Update list of countries based on user search input\n",
    "def update_country_list(*args):\n",
    "    # Extracting selected countries based on current checkbox selections\n",
    "    selected_countries = [cb.description for cb in checkboxes_container.children if cb.value]\n",
    "\n",
    "    search_input = search_box.value\n",
    "    # Filtering countries based on search criteria\n",
    "    search_results = [country for country in all_countries if search_input.lower() in country.lower()]\n",
    "    \n",
    "    # Merge the search results with previously selected countries and remove duplicates\n",
    "    updated_countries = list(set(search_results + selected_countries))\n",
    "    \n",
    "    # Prioritize selected countries to be shown at the top\n",
    "    updated_countries = sorted(updated_countries, key=lambda x: (x not in selected_countries, x))\n",
    "    \n",
    "    updated_checkboxes = [widgets.Checkbox(value=(country in selected_countries), description=country,\n",
    "                                           layout=widgets.Layout(width=\"100%\", padding=\"0px\")) for country in updated_countries]\n",
    "    for cb in updated_checkboxes:\n",
    "        cb.observe(plot_selected_countries, names='value')\n",
    "    checkboxes_container.children = tuple(updated_checkboxes)\n",
    "\n",
    "\n",
    "# Creating the search box widget\n",
    "search_box = widgets.Text(value='', placeholder='Search for Countries...', description='', layout=widgets.Layout(width=\"95%\"))\n",
    "search_box.observe(update_country_list, names='value')\n",
    "\n",
    "clear_button = widgets.Button(description=\"X\", layout=widgets.Layout(width=\"5%\"))\n",
    "def clear_search_field(change):\n",
    "    search_box.value = ''\n",
    "clear_button.on_click(clear_search_field)\n",
    "\n",
    "# Creating country checkboxes widget\n",
    "country_checkboxes = [widgets.Checkbox(value=(country in default_countries), description=country,\n",
    "                                       layout=widgets.Layout(width=\"100%\", padding=\"0px\")) for country in all_countries]\n",
    "checkboxes_container = widgets.VBox(country_checkboxes,\n",
    "                                    layout=widgets.Layout(overflow_y=\"scroll\", height=\"400px\", border=\"1px solid #DDD\"))\n",
    "\n",
    "# Output widget to display the plot\n",
    "out = widgets.Output(layout=widgets.Layout(height=\"400px\", width=\"60%\"))\n",
    "out.layout.height = \"400px\"\n",
    "checkboxes_container.layout.height = \"400px\"\n",
    "\n",
    "# Function to plot data for the selected countries\n",
    "def plot_selected_countries(change=None):\n",
    "    # Extracting selected countries based on user checkbox selections\n",
    "    selected_countries = [cb.description for cb in checkboxes_container.children if cb.value]\n",
    "    \n",
    "    # Sort checkboxes to place selected countries on top\n",
    "    sorted_checkboxes = sorted(checkboxes_container.children, key=lambda cb: (cb.description not in selected_countries, cb.description))\n",
    "    checkboxes_container.children = tuple(sorted_checkboxes)\n",
    "    \n",
    "    with out:\n",
    "        clear_output(wait=True)\n",
    "        fig = go.Figure()\n",
    "        fig_height = 400  \n",
    "        fig.update_layout(height=fig_height)\n",
    "        for country in selected_countries:\n",
    "            country_data = filtered_df[filtered_df['Entity'] == country]\n",
    "            # Adding trace for each country. The mode 'lines+markers' will display markers at data points.\n",
    "            fig.add_trace(go.Scatter(x=country_data['Year'], y=country_data['Annual CO₂ emissions in tons'], mode='lines', name=country, showlegend=True))\n",
    "\n",
    "        # Updating layout for the plot with grid and customizing appearance\n",
    "        fig.update_layout(title='Annual CO₂ Emissions in tonnes', \n",
    "                          xaxis=dict(title='Year', showgrid=True, gridcolor='rgba(128, 128, 128, 0.5)', gridwidth=0.5, griddash='dot', zeroline=False),\n",
    "                          yaxis=dict(title='Annual CO₂ Emissions', showgrid=True, gridcolor='rgba(128, 128, 128, 0.5)', gridwidth=0.5, griddash='dot', zeroline=False),\n",
    "                          showlegend=True, xaxis_title='', \n",
    "                          plot_bgcolor='white', \n",
    "                          paper_bgcolor='white')\n",
    "        font_size_px = 16\n",
    "        fig.update_layout(\n",
    "            font=dict(size=font_size_px),\n",
    "            title=dict(font=dict(size=font_size_px)),\n",
    "            xaxis=dict(titlefont=dict(size=font_size_px), tickfont=dict(size=font_size_px)),\n",
    "            yaxis=dict(titlefont=dict(size=font_size_px), tickfont=dict(size=font_size_px)),\n",
    "            legend=dict(font=dict(size=font_size_px))\n",
    "        )\n",
    "\n",
    "        fig.show()\n",
    "\n",
    "# Adding listener for change in checkbox selection to update the plot\n",
    "for cb in country_checkboxes:\n",
    "    cb.observe(plot_selected_countries, names='value')\n",
    "\n",
    "left_container_width = '270px'  # Zum Beispiel, wenn die ursprüngliche Breite 200px war\n",
    "left_container = widgets.VBox([widgets.HBox([search_box, clear_button]), checkboxes_container],\n",
    "                              layout=widgets.Layout(width=left_container_width, border=\"1px solid #DDD\", padding=\"5px 0px 0px 0px\"))\n",
    "    \n",
    "display(HTML(\"\"\"\n",
    "<style>\n",
    "    :root {\n",
    "        --jp-widgets-inline-label-width: auto !important;\n",
    "    }\n",
    "</style>\n",
    "\"\"\"))\n",
    "\n",
    "display(widgets.HBox([left_container, out]))\n",
    "plot_selected_countries()\n"
   ]
  },
  {
   "cell_type": "code",
   "execution_count": null,
   "id": "7d475deb-4f72-4d33-acfd-aec995721fad",
   "metadata": {
    "tags": []
   },
   "outputs": [
    {
     "data": {
      "application/vnd.jupyter.widget-view+json": {
       "model_id": "e8688bf6fada48b18189bc0d473f65c0",
       "version_major": 2,
       "version_minor": 0
      },
      "text/plain": [
       "VBox(children=(HBox(children=(VBox(children=(HBox(children=(Text(value='', layout=Layout(width='95%'), placeho…"
      ]
     },
     "metadata": {},
     "output_type": "display_data"
    },
    {
     "data": {
      "application/vnd.jupyter.widget-view+json": {
       "model_id": "9d70f940201c4d4aaa427f4e040de2d5",
       "version_major": 2,
       "version_minor": 0
      },
      "text/plain": [
       "VBox(children=(HBox(children=(VBox(children=(HBox(children=(Text(value='', layout=Layout(width='95%'), placeho…"
      ]
     },
     "metadata": {},
     "output_type": "display_data"
    },
    {
     "data": {
      "application/vnd.jupyter.widget-view+json": {
       "model_id": "005062bbdad84f428d97cfc5ba354b64",
       "version_major": 2,
       "version_minor": 0
      },
      "text/plain": [
       "VBox(children=(HBox(children=(VBox(children=(HBox(children=(Text(value='', layout=Layout(width='95%'), placeho…"
      ]
     },
     "metadata": {},
     "output_type": "display_data"
    },
    {
     "data": {
      "application/vnd.jupyter.widget-view+json": {
       "model_id": "a0da0483cf4f40b3b886fe43b406e924",
       "version_major": 2,
       "version_minor": 0
      },
      "text/plain": [
       "VBox(children=(HBox(children=(VBox(children=(HBox(children=(Text(value='', layout=Layout(width='95%'), placeho…"
      ]
     },
     "metadata": {},
     "output_type": "display_data"
    },
    {
     "data": {
      "application/vnd.jupyter.widget-view+json": {
       "model_id": "baf86c6aadd845458f213c3250b88351",
       "version_major": 2,
       "version_minor": 0
      },
      "text/plain": [
       "VBox(children=(HBox(children=(VBox(children=(HBox(children=(Text(value='', layout=Layout(width='95%'), placeho…"
      ]
     },
     "metadata": {},
     "output_type": "display_data"
    },
    {
     "data": {
      "application/vnd.jupyter.widget-view+json": {
       "model_id": "d48d0a107ebd4163a74350dc61211921",
       "version_major": 2,
       "version_minor": 0
      },
      "text/plain": [
       "VBox(children=(HBox(children=(VBox(children=(HBox(children=(Text(value='', layout=Layout(width='95%'), placeho…"
      ]
     },
     "metadata": {},
     "output_type": "display_data"
    },
    {
     "data": {
      "application/vnd.jupyter.widget-view+json": {
       "model_id": "38eeb4c14be945d49fc326816ae23518",
       "version_major": 2,
       "version_minor": 0
      },
      "text/plain": [
       "VBox(children=(HBox(children=(VBox(children=(HBox(children=(Text(value='', layout=Layout(width='95%'), placeho…"
      ]
     },
     "metadata": {},
     "output_type": "display_data"
    },
    {
     "data": {
      "application/vnd.jupyter.widget-view+json": {
       "model_id": "efb0f740f2724ff8b820b96112a24c88",
       "version_major": 2,
       "version_minor": 0
      },
      "text/plain": [
       "VBox(children=(HBox(children=(VBox(children=(HBox(children=(Text(value='', layout=Layout(width='95%'), placeho…"
      ]
     },
     "metadata": {},
     "output_type": "display_data"
    },
    {
     "data": {
      "application/vnd.jupyter.widget-view+json": {
       "model_id": "534501eb5aa24bc7b7ff698ffb0a897a",
       "version_major": 2,
       "version_minor": 0
      },
      "text/plain": [
       "VBox(children=(HBox(children=(VBox(children=(HBox(children=(Text(value='', layout=Layout(width='95%'), placeho…"
      ]
     },
     "metadata": {},
     "output_type": "display_data"
    },
    {
     "data": {
      "application/vnd.jupyter.widget-view+json": {
       "model_id": "41d97dc19aa841078b1fb7298554627f",
       "version_major": 2,
       "version_minor": 0
      },
      "text/plain": [
       "VBox(children=(HBox(children=(VBox(children=(HBox(children=(Text(value='', layout=Layout(width='95%'), placeho…"
      ]
     },
     "metadata": {},
     "output_type": "display_data"
    },
    {
     "data": {
      "application/vnd.plotly.v1+json": {
       "config": {
        "plotlyServerURL": "https://plot.ly"
       },
       "data": [
        {
         "mode": "lines",
         "name": "China",
         "showlegend": true,
         "type": "scatter",
         "x": [
          1965,
          1966,
          1967,
          1968,
          1969,
          1970,
          1971,
          1972,
          1973,
          1974,
          1975,
          1976,
          1977,
          1978,
          1979,
          1980,
          1981,
          1982,
          1983,
          1984,
          1985,
          1986,
          1987,
          1988,
          1989,
          1990,
          1991,
          1992,
          1993,
          1994,
          1995,
          1996,
          1997,
          1998,
          1999,
          2000,
          2001,
          2002,
          2003,
          2004,
          2005,
          2006,
          2007,
          2008,
          2009,
          2010,
          2011,
          2012,
          2013,
          2014,
          2015,
          2016,
          2017,
          2018,
          2019,
          2020,
          2021,
          2022
         ],
         "y": [
          1375529600,
          1448821000,
          1352360000,
          1408463400,
          1561292700,
          1798121600,
          1916601600,
          2015358800,
          2123453600,
          2117296600,
          2336141300,
          2404722700,
          2565072400,
          2752452900,
          2776170200,
          2783319300,
          2983762000,
          3292337000,
          3558058000,
          3844343800,
          3832813800,
          3848975000,
          4019967200,
          4252527400,
          4330892300,
          4353101000,
          4355150000,
          4466671000,
          4645332000,
          4876124000,
          5214522400,
          5372103000,
          5331881500,
          5144584700,
          5312682000,
          5320385000,
          5352862700,
          5720691000,
          6497212000,
          7042859500,
          7692667000,
          8353349000,
          8853881000,
          9387365000,
          9790905000,
          10509588000,
          11593447000,
          11780045000,
          11948799000,
          12152606000,
          12020059000,
          11802869000,
          12050045000,
          12387070000,
          12874981000,
          13153345000,
          13710636000,
          null
         ]
        },
        {
         "mode": "lines",
         "name": "Germany",
         "showlegend": true,
         "type": "scatter",
         "x": [
          1965,
          1966,
          1967,
          1968,
          1969,
          1970,
          1971,
          1972,
          1973,
          1974,
          1975,
          1976,
          1977,
          1978,
          1979,
          1980,
          1981,
          1982,
          1983,
          1984,
          1985,
          1986,
          1987,
          1988,
          1989,
          1990,
          1991,
          1992,
          1993,
          1994,
          1995,
          1996,
          1997,
          1998,
          1999,
          2000,
          2001,
          2002,
          2003,
          2004,
          2005,
          2006,
          2007,
          2008,
          2009,
          2010,
          2011,
          2012,
          2013,
          2014,
          2015,
          2016,
          2017,
          2018,
          2019,
          2020,
          2021,
          2022
         ],
         "y": [
          1139718100,
          1132797800,
          1120941700,
          1175982200,
          1253082400,
          1223780200,
          1234060200,
          1234831000,
          1281803300,
          1261905400,
          1198427400,
          1287475300,
          1246581500,
          1274947100,
          1318690700,
          1299919000,
          1245919600,
          1207246200,
          1198110800,
          1221264600,
          1235105000,
          1233145300,
          1214326900,
          1205956200,
          1186178400,
          1216704900,
          1171438200,
          1117556900,
          1100401500,
          1090693900,
          1093906700,
          1109460700,
          1069039200,
          1036943300,
          1003947400,
          1003914100,
          1016005400,
          998643000,
          999995460,
          984494000,
          962230340,
          971379650,
          942622100,
          943483650,
          873189700,
          915083260,
          887841200,
          892937700,
          912245800,
          872835460,
          873100540,
          878525200,
          863169660,
          827289340,
          777070800,
          707816300,
          745931840,
          null
         ]
        },
        {
         "mode": "lines",
         "name": "India",
         "showlegend": true,
         "type": "scatter",
         "x": [
          1965,
          1966,
          1967,
          1968,
          1969,
          1970,
          1971,
          1972,
          1973,
          1974,
          1975,
          1976,
          1977,
          1978,
          1979,
          1980,
          1981,
          1982,
          1983,
          1984,
          1985,
          1986,
          1987,
          1988,
          1989,
          1990,
          1991,
          1992,
          1993,
          1994,
          1995,
          1996,
          1997,
          1998,
          1999,
          2000,
          2001,
          2002,
          2003,
          2004,
          2005,
          2006,
          2007,
          2008,
          2009,
          2010,
          2011,
          2012,
          2013,
          2014,
          2015,
          2016,
          2017,
          2018,
          2019,
          2020,
          2021,
          2022
         ],
         "y": [
          913093600,
          957427260,
          967466600,
          937839900,
          953958900,
          930819500,
          964208300,
          1038698000,
          1031069200,
          1032328060,
          1047771600,
          1037343550,
          1138060200,
          1107548400,
          1097796100,
          1130296300,
          1179891700,
          1175033300,
          1289733500,
          1277026400,
          1305115800,
          1367632100,
          1370580100,
          1480606200,
          1522904600,
          1533375900,
          1577597700,
          1636316900,
          1649159600,
          1685452500,
          1726448400,
          1826165400,
          1848856800,
          1866603400,
          1947705200,
          2009134000,
          2019021600,
          2017562400,
          2088233900,
          2162795800,
          2239350800,
          2327488000,
          2475741200,
          2623861800,
          2756779000,
          2847361300,
          2957348600,
          3155205600,
          3220519700,
          3333282800,
          3438726000,
          3564861200,
          3621199000,
          3783796200,
          3815779600,
          3638071300,
          3900927000,
          null
         ]
        },
        {
         "mode": "lines",
         "name": "United States",
         "showlegend": true,
         "type": "scatter",
         "x": [
          1965,
          1966,
          1967,
          1968,
          1969,
          1970,
          1971,
          1972,
          1973,
          1974,
          1975,
          1976,
          1977,
          1978,
          1979,
          1980,
          1981,
          1982,
          1983,
          1984,
          1985,
          1986,
          1987,
          1988,
          1989,
          1990,
          1991,
          1992,
          1993,
          1994,
          1995,
          1996,
          1997,
          1998,
          1999,
          2000,
          2001,
          2002,
          2003,
          2004,
          2005,
          2006,
          2007,
          2008,
          2009,
          2010,
          2011,
          2012,
          2013,
          2014,
          2015,
          2016,
          2017,
          2018,
          2019,
          2020,
          2021,
          2022
         ],
         "y": [
          4249104100,
          4445517000,
          4764397600,
          5061776000,
          5182415000,
          5425296000,
          5443816000,
          5650412500,
          5850264600,
          5675153400,
          5517257700,
          5786708000,
          5957917700,
          5985067000,
          6080574000,
          5907320000,
          5800620500,
          5541474000,
          5493134000,
          5744921600,
          5697267700,
          5655609000,
          5822924000,
          6060157400,
          6147958300,
          6139884500,
          6096763000,
          6216769000,
          6310290000,
          6435010000,
          6453725000,
          6638958600,
          6720330000,
          6767301000,
          6864969700,
          7048426000,
          6857520000,
          6859837400,
          6934596600,
          7013343700,
          7042069000,
          6957280000,
          7030173700,
          6832015400,
          6320535000,
          6506400300,
          6360037400,
          6164854000,
          6299595300,
          6368018400,
          6213992000,
          6091915300,
          6078619600,
          6272382000,
          6178177000,
          5626903600,
          5925714400,
          null
         ]
        },
        {
         "mode": "lines",
         "name": "World",
         "showlegend": true,
         "type": "scatter",
         "x": [
          1965,
          1966,
          1967,
          1968,
          1969,
          1970,
          1971,
          1972,
          1973,
          1974,
          1975,
          1976,
          1977,
          1978,
          1979,
          1980,
          1981,
          1982,
          1983,
          1984,
          1985,
          1986,
          1987,
          1988,
          1989,
          1990,
          1991,
          1992,
          1993,
          1994,
          1995,
          1996,
          1997,
          1998,
          1999,
          2000,
          2001,
          2002,
          2003,
          2004,
          2005,
          2006,
          2007,
          2008,
          2009,
          2010,
          2011,
          2012,
          2013,
          2014,
          2015,
          2016,
          2017,
          2018,
          2019,
          2020,
          2021,
          2022
         ],
         "y": [
          23528948000,
          24142748000,
          24736307000,
          25618143000,
          26375401000,
          27596683000,
          28202478000,
          29130297000,
          30065463000,
          29925347000,
          30165764000,
          31188770000,
          31948120000,
          32418126000,
          33049813000,
          32947655000,
          32579475000,
          32556354000,
          33109391000,
          34397426000,
          34960530000,
          35398316000,
          36161890000,
          37071196000,
          37393690000,
          37861167000,
          38189654000,
          37660260000,
          37883445000,
          38568268000,
          39237210000,
          40058495000,
          42008400000,
          40243634000,
          40820010000,
          41343422000,
          41203966000,
          42279180000,
          44362280000,
          45323980000,
          45839122000,
          47368860000,
          47793620000,
          48658096000,
          48450773000,
          50274144000,
          51856640000,
          52393185000,
          52483064000,
          53155336000,
          53660480000,
          52822622000,
          53405286000,
          54066300000,
          54821320000,
          52585247000,
          54593196000,
          null
         ]
        }
       ],
       "layout": {
        "autosize": true,
        "paper_bgcolor": "white",
        "plot_bgcolor": "white",
        "template": {
         "data": {
          "bar": [
           {
            "error_x": {
             "color": "#2a3f5f"
            },
            "error_y": {
             "color": "#2a3f5f"
            },
            "marker": {
             "line": {
              "color": "#E5ECF6",
              "width": 0.5
             },
             "pattern": {
              "fillmode": "overlay",
              "size": 10,
              "solidity": 0.2
             }
            },
            "type": "bar"
           }
          ],
          "barpolar": [
           {
            "marker": {
             "line": {
              "color": "#E5ECF6",
              "width": 0.5
             },
             "pattern": {
              "fillmode": "overlay",
              "size": 10,
              "solidity": 0.2
             }
            },
            "type": "barpolar"
           }
          ],
          "carpet": [
           {
            "aaxis": {
             "endlinecolor": "#2a3f5f",
             "gridcolor": "white",
             "linecolor": "white",
             "minorgridcolor": "white",
             "startlinecolor": "#2a3f5f"
            },
            "baxis": {
             "endlinecolor": "#2a3f5f",
             "gridcolor": "white",
             "linecolor": "white",
             "minorgridcolor": "white",
             "startlinecolor": "#2a3f5f"
            },
            "type": "carpet"
           }
          ],
          "choropleth": [
           {
            "colorbar": {
             "outlinewidth": 0,
             "ticks": ""
            },
            "type": "choropleth"
           }
          ],
          "contour": [
           {
            "colorbar": {
             "outlinewidth": 0,
             "ticks": ""
            },
            "colorscale": [
             [
              0,
              "#0d0887"
             ],
             [
              0.1111111111111111,
              "#46039f"
             ],
             [
              0.2222222222222222,
              "#7201a8"
             ],
             [
              0.3333333333333333,
              "#9c179e"
             ],
             [
              0.4444444444444444,
              "#bd3786"
             ],
             [
              0.5555555555555556,
              "#d8576b"
             ],
             [
              0.6666666666666666,
              "#ed7953"
             ],
             [
              0.7777777777777778,
              "#fb9f3a"
             ],
             [
              0.8888888888888888,
              "#fdca26"
             ],
             [
              1,
              "#f0f921"
             ]
            ],
            "type": "contour"
           }
          ],
          "contourcarpet": [
           {
            "colorbar": {
             "outlinewidth": 0,
             "ticks": ""
            },
            "type": "contourcarpet"
           }
          ],
          "heatmap": [
           {
            "colorbar": {
             "outlinewidth": 0,
             "ticks": ""
            },
            "colorscale": [
             [
              0,
              "#0d0887"
             ],
             [
              0.1111111111111111,
              "#46039f"
             ],
             [
              0.2222222222222222,
              "#7201a8"
             ],
             [
              0.3333333333333333,
              "#9c179e"
             ],
             [
              0.4444444444444444,
              "#bd3786"
             ],
             [
              0.5555555555555556,
              "#d8576b"
             ],
             [
              0.6666666666666666,
              "#ed7953"
             ],
             [
              0.7777777777777778,
              "#fb9f3a"
             ],
             [
              0.8888888888888888,
              "#fdca26"
             ],
             [
              1,
              "#f0f921"
             ]
            ],
            "type": "heatmap"
           }
          ],
          "heatmapgl": [
           {
            "colorbar": {
             "outlinewidth": 0,
             "ticks": ""
            },
            "colorscale": [
             [
              0,
              "#0d0887"
             ],
             [
              0.1111111111111111,
              "#46039f"
             ],
             [
              0.2222222222222222,
              "#7201a8"
             ],
             [
              0.3333333333333333,
              "#9c179e"
             ],
             [
              0.4444444444444444,
              "#bd3786"
             ],
             [
              0.5555555555555556,
              "#d8576b"
             ],
             [
              0.6666666666666666,
              "#ed7953"
             ],
             [
              0.7777777777777778,
              "#fb9f3a"
             ],
             [
              0.8888888888888888,
              "#fdca26"
             ],
             [
              1,
              "#f0f921"
             ]
            ],
            "type": "heatmapgl"
           }
          ],
          "histogram": [
           {
            "marker": {
             "pattern": {
              "fillmode": "overlay",
              "size": 10,
              "solidity": 0.2
             }
            },
            "type": "histogram"
           }
          ],
          "histogram2d": [
           {
            "colorbar": {
             "outlinewidth": 0,
             "ticks": ""
            },
            "colorscale": [
             [
              0,
              "#0d0887"
             ],
             [
              0.1111111111111111,
              "#46039f"
             ],
             [
              0.2222222222222222,
              "#7201a8"
             ],
             [
              0.3333333333333333,
              "#9c179e"
             ],
             [
              0.4444444444444444,
              "#bd3786"
             ],
             [
              0.5555555555555556,
              "#d8576b"
             ],
             [
              0.6666666666666666,
              "#ed7953"
             ],
             [
              0.7777777777777778,
              "#fb9f3a"
             ],
             [
              0.8888888888888888,
              "#fdca26"
             ],
             [
              1,
              "#f0f921"
             ]
            ],
            "type": "histogram2d"
           }
          ],
          "histogram2dcontour": [
           {
            "colorbar": {
             "outlinewidth": 0,
             "ticks": ""
            },
            "colorscale": [
             [
              0,
              "#0d0887"
             ],
             [
              0.1111111111111111,
              "#46039f"
             ],
             [
              0.2222222222222222,
              "#7201a8"
             ],
             [
              0.3333333333333333,
              "#9c179e"
             ],
             [
              0.4444444444444444,
              "#bd3786"
             ],
             [
              0.5555555555555556,
              "#d8576b"
             ],
             [
              0.6666666666666666,
              "#ed7953"
             ],
             [
              0.7777777777777778,
              "#fb9f3a"
             ],
             [
              0.8888888888888888,
              "#fdca26"
             ],
             [
              1,
              "#f0f921"
             ]
            ],
            "type": "histogram2dcontour"
           }
          ],
          "mesh3d": [
           {
            "colorbar": {
             "outlinewidth": 0,
             "ticks": ""
            },
            "type": "mesh3d"
           }
          ],
          "parcoords": [
           {
            "line": {
             "colorbar": {
              "outlinewidth": 0,
              "ticks": ""
             }
            },
            "type": "parcoords"
           }
          ],
          "pie": [
           {
            "automargin": true,
            "type": "pie"
           }
          ],
          "scatter": [
           {
            "fillpattern": {
             "fillmode": "overlay",
             "size": 10,
             "solidity": 0.2
            },
            "type": "scatter"
           }
          ],
          "scatter3d": [
           {
            "line": {
             "colorbar": {
              "outlinewidth": 0,
              "ticks": ""
             }
            },
            "marker": {
             "colorbar": {
              "outlinewidth": 0,
              "ticks": ""
             }
            },
            "type": "scatter3d"
           }
          ],
          "scattercarpet": [
           {
            "marker": {
             "colorbar": {
              "outlinewidth": 0,
              "ticks": ""
             }
            },
            "type": "scattercarpet"
           }
          ],
          "scattergeo": [
           {
            "marker": {
             "colorbar": {
              "outlinewidth": 0,
              "ticks": ""
             }
            },
            "type": "scattergeo"
           }
          ],
          "scattergl": [
           {
            "marker": {
             "colorbar": {
              "outlinewidth": 0,
              "ticks": ""
             }
            },
            "type": "scattergl"
           }
          ],
          "scattermapbox": [
           {
            "marker": {
             "colorbar": {
              "outlinewidth": 0,
              "ticks": ""
             }
            },
            "type": "scattermapbox"
           }
          ],
          "scatterpolar": [
           {
            "marker": {
             "colorbar": {
              "outlinewidth": 0,
              "ticks": ""
             }
            },
            "type": "scatterpolar"
           }
          ],
          "scatterpolargl": [
           {
            "marker": {
             "colorbar": {
              "outlinewidth": 0,
              "ticks": ""
             }
            },
            "type": "scatterpolargl"
           }
          ],
          "scatterternary": [
           {
            "marker": {
             "colorbar": {
              "outlinewidth": 0,
              "ticks": ""
             }
            },
            "type": "scatterternary"
           }
          ],
          "surface": [
           {
            "colorbar": {
             "outlinewidth": 0,
             "ticks": ""
            },
            "colorscale": [
             [
              0,
              "#0d0887"
             ],
             [
              0.1111111111111111,
              "#46039f"
             ],
             [
              0.2222222222222222,
              "#7201a8"
             ],
             [
              0.3333333333333333,
              "#9c179e"
             ],
             [
              0.4444444444444444,
              "#bd3786"
             ],
             [
              0.5555555555555556,
              "#d8576b"
             ],
             [
              0.6666666666666666,
              "#ed7953"
             ],
             [
              0.7777777777777778,
              "#fb9f3a"
             ],
             [
              0.8888888888888888,
              "#fdca26"
             ],
             [
              1,
              "#f0f921"
             ]
            ],
            "type": "surface"
           }
          ],
          "table": [
           {
            "cells": {
             "fill": {
              "color": "#EBF0F8"
             },
             "line": {
              "color": "white"
             }
            },
            "header": {
             "fill": {
              "color": "#C8D4E3"
             },
             "line": {
              "color": "white"
             }
            },
            "type": "table"
           }
          ]
         },
         "layout": {
          "annotationdefaults": {
           "arrowcolor": "#2a3f5f",
           "arrowhead": 0,
           "arrowwidth": 1
          },
          "autotypenumbers": "strict",
          "coloraxis": {
           "colorbar": {
            "outlinewidth": 0,
            "ticks": ""
           }
          },
          "colorscale": {
           "diverging": [
            [
             0,
             "#8e0152"
            ],
            [
             0.1,
             "#c51b7d"
            ],
            [
             0.2,
             "#de77ae"
            ],
            [
             0.3,
             "#f1b6da"
            ],
            [
             0.4,
             "#fde0ef"
            ],
            [
             0.5,
             "#f7f7f7"
            ],
            [
             0.6,
             "#e6f5d0"
            ],
            [
             0.7,
             "#b8e186"
            ],
            [
             0.8,
             "#7fbc41"
            ],
            [
             0.9,
             "#4d9221"
            ],
            [
             1,
             "#276419"
            ]
           ],
           "sequential": [
            [
             0,
             "#0d0887"
            ],
            [
             0.1111111111111111,
             "#46039f"
            ],
            [
             0.2222222222222222,
             "#7201a8"
            ],
            [
             0.3333333333333333,
             "#9c179e"
            ],
            [
             0.4444444444444444,
             "#bd3786"
            ],
            [
             0.5555555555555556,
             "#d8576b"
            ],
            [
             0.6666666666666666,
             "#ed7953"
            ],
            [
             0.7777777777777778,
             "#fb9f3a"
            ],
            [
             0.8888888888888888,
             "#fdca26"
            ],
            [
             1,
             "#f0f921"
            ]
           ],
           "sequentialminus": [
            [
             0,
             "#0d0887"
            ],
            [
             0.1111111111111111,
             "#46039f"
            ],
            [
             0.2222222222222222,
             "#7201a8"
            ],
            [
             0.3333333333333333,
             "#9c179e"
            ],
            [
             0.4444444444444444,
             "#bd3786"
            ],
            [
             0.5555555555555556,
             "#d8576b"
            ],
            [
             0.6666666666666666,
             "#ed7953"
            ],
            [
             0.7777777777777778,
             "#fb9f3a"
            ],
            [
             0.8888888888888888,
             "#fdca26"
            ],
            [
             1,
             "#f0f921"
            ]
           ]
          },
          "colorway": [
           "#636efa",
           "#EF553B",
           "#00cc96",
           "#ab63fa",
           "#FFA15A",
           "#19d3f3",
           "#FF6692",
           "#B6E880",
           "#FF97FF",
           "#FECB52"
          ],
          "font": {
           "color": "#2a3f5f"
          },
          "geo": {
           "bgcolor": "white",
           "lakecolor": "white",
           "landcolor": "#E5ECF6",
           "showlakes": true,
           "showland": true,
           "subunitcolor": "white"
          },
          "hoverlabel": {
           "align": "left"
          },
          "hovermode": "closest",
          "mapbox": {
           "style": "light"
          },
          "paper_bgcolor": "white",
          "plot_bgcolor": "#E5ECF6",
          "polar": {
           "angularaxis": {
            "gridcolor": "white",
            "linecolor": "white",
            "ticks": ""
           },
           "bgcolor": "#E5ECF6",
           "radialaxis": {
            "gridcolor": "white",
            "linecolor": "white",
            "ticks": ""
           }
          },
          "scene": {
           "xaxis": {
            "backgroundcolor": "#E5ECF6",
            "gridcolor": "white",
            "gridwidth": 2,
            "linecolor": "white",
            "showbackground": true,
            "ticks": "",
            "zerolinecolor": "white"
           },
           "yaxis": {
            "backgroundcolor": "#E5ECF6",
            "gridcolor": "white",
            "gridwidth": 2,
            "linecolor": "white",
            "showbackground": true,
            "ticks": "",
            "zerolinecolor": "white"
           },
           "zaxis": {
            "backgroundcolor": "#E5ECF6",
            "gridcolor": "white",
            "gridwidth": 2,
            "linecolor": "white",
            "showbackground": true,
            "ticks": "",
            "zerolinecolor": "white"
           }
          },
          "shapedefaults": {
           "line": {
            "color": "#2a3f5f"
           }
          },
          "ternary": {
           "aaxis": {
            "gridcolor": "white",
            "linecolor": "white",
            "ticks": ""
           },
           "baxis": {
            "gridcolor": "white",
            "linecolor": "white",
            "ticks": ""
           },
           "bgcolor": "#E5ECF6",
           "caxis": {
            "gridcolor": "white",
            "linecolor": "white",
            "ticks": ""
           }
          },
          "title": {
           "x": 0.05
          },
          "xaxis": {
           "automargin": true,
           "gridcolor": "white",
           "linecolor": "white",
           "ticks": "",
           "title": {
            "standoff": 15
           },
           "zerolinecolor": "white",
           "zerolinewidth": 2
          },
          "yaxis": {
           "automargin": true,
           "gridcolor": "white",
           "linecolor": "white",
           "ticks": "",
           "title": {
            "standoff": 15
           },
           "zerolinecolor": "white",
           "zerolinewidth": 2
          }
         }
        },
        "title": {
         "text": "Annual greenhouse gas emissions in CO2 equivalents"
        },
        "xaxis": {
         "autorange": true,
         "range": [
          1965,
          2022
         ],
         "title": {
          "text": "Year"
         },
         "type": "linear"
        },
        "yaxis": {
         "autorange": true,
         "range": [
          -2298489461.1111107,
          57827625761.111115
         ],
         "title": {
          "text": "Annual greenhouse gas emissions in CO2 equivalents"
         },
         "type": "linear"
        }
       }
      },
      "image/png": "[encoded data removed]",
      "text/html": [
       "<div>                            <div id=\"c3fd68eb-ed2c-487a-999a-2cfc99c93ccf\" class=\"plotly-graph-div\" style=\"height:400px; width:100%;\"></div>            <script type=\"text/javascript\">                require([\"plotly\"], function(Plotly) {                    window.PLOTLYENV=window.PLOTLYENV || {};                                    if (document.getElementById(\"c3fd68eb-ed2c-487a-999a-2cfc99c93ccf\")) {                    Plotly.newPlot(                        \"c3fd68eb-ed2c-487a-999a-2cfc99c93ccf\",                        [{\"mode\":\"lines\",\"name\":\"China\",\"showlegend\":true,\"x\":[1965,1966,1967,1968,1969,1970,1971,1972,1973,1974,1975,1976,1977,1978,1979,1980,1981,1982,1983,1984,1985,1986,1987,1988,1989,1990,1991,1992,1993,1994,1995,1996,1997,1998,1999,2000,2001,2002,2003,2004,2005,2006,2007,2008,2009,2010,2011,2012,2013,2014,2015,2016,2017,2018,2019,2020,2021,2022],\"y\":[1375529600.0,1448821000.0,1352360000.0,1408463400.0,1561292700.0,1798121600.0,1916601600.0,2015358800.0,2123453600.0,2117296600.0,2336141300.0,2404722700.0,2565072400.0,2752452900.0,2776170200.0,2783319300.0,2983762000.0,3292337000.0,3558058000.0,3844343800.0,3832813800.0,3848975000.0,4019967200.0,4252527400.0,4330892300.0,4353101000.0,4355150000.0,4466671000.0,4645332000.0,4876124000.0,5214522400.0,5372103000.0,5331881500.0,5144584700.0,5312682000.0,5320385000.0,5352862700.0,5720691000.0,6497212000.0,7042859500.0,7692667000.0,8353349000.0,8853881000.0,9387365000.0,9790905000.0,10509588000.0,11593447000.0,11780045000.0,11948799000.0,12152606000.0,12020059000.0,11802869000.0,12050045000.0,12387070000.0,12874981000.0,13153345000.0,13710636000.0,null],\"type\":\"scatter\"},{\"mode\":\"lines\",\"name\":\"Germany\",\"showlegend\":true,\"x\":[1965,1966,1967,1968,1969,1970,1971,1972,1973,1974,1975,1976,1977,1978,1979,1980,1981,1982,1983,1984,1985,1986,1987,1988,1989,1990,1991,1992,1993,1994,1995,1996,1997,1998,1999,2000,2001,2002,2003,2004,2005,2006,2007,2008,2009,2010,2011,2012,2013,2014,2015,2016,2017,2018,2019,2020,2021,2022],\"y\":[1139718100.0,1132797800.0,1120941700.0,1175982200.0,1253082400.0,1223780200.0,1234060200.0,1234831000.0,1281803300.0,1261905400.0,1198427400.0,1287475300.0,1246581500.0,1274947100.0,1318690700.0,1299919000.0,1245919600.0,1207246200.0,1198110800.0,1221264600.0,1235105000.0,1233145300.0,1214326900.0,1205956200.0,1186178400.0,1216704900.0,1171438200.0,1117556900.0,1100401500.0,1090693900.0,1093906700.0,1109460700.0,1069039200.0,1036943300.0,1003947400.0,1003914100.0,1016005400.0,998643000.0,999995460.0,984494000.0,962230340.0,971379650.0,942622100.0,943483650.0,873189700.0,915083260.0,887841200.0,892937700.0,912245800.0,872835460.0,873100540.0,878525200.0,863169660.0,827289340.0,777070800.0,707816300.0,745931840.0,null],\"type\":\"scatter\"},{\"mode\":\"lines\",\"name\":\"India\",\"showlegend\":true,\"x\":[1965,1966,1967,1968,1969,1970,1971,1972,1973,1974,1975,1976,1977,1978,1979,1980,1981,1982,1983,1984,1985,1986,1987,1988,1989,1990,1991,1992,1993,1994,1995,1996,1997,1998,1999,2000,2001,2002,2003,2004,2005,2006,2007,2008,2009,2010,2011,2012,2013,2014,2015,2016,2017,2018,2019,2020,2021,2022],\"y\":[913093600.0,957427260.0,967466600.0,937839900.0,953958900.0,930819500.0,964208300.0,1038698000.0,1031069200.0,1032328060.0,1047771600.0,1037343550.0,1138060200.0,1107548400.0,1097796100.0,1130296300.0,1179891700.0,1175033300.0,1289733500.0,1277026400.0,1305115800.0,1367632100.0,1370580100.0,1480606200.0,1522904600.0,1533375900.0,1577597700.0,1636316900.0,1649159600.0,1685452500.0,1726448400.0,1826165400.0,1848856800.0,1866603400.0,1947705200.0,2009134000.0,2019021600.0,2017562400.0,2088233900.0,2162795800.0,2239350800.0,2327488000.0,2475741200.0,2623861800.0,2756779000.0,2847361300.0,2957348600.0,3155205600.0,3220519700.0,3333282800.0,3438726000.0,3564861200.0,3621199000.0,3783796200.0,3815779600.0,3638071300.0,3900927000.0,null],\"type\":\"scatter\"},{\"mode\":\"lines\",\"name\":\"United States\",\"showlegend\":true,\"x\":[1965,1966,1967,1968,1969,1970,1971,1972,1973,1974,1975,1976,1977,1978,1979,1980,1981,1982,1983,1984,1985,1986,1987,1988,1989,1990,1991,1992,1993,1994,1995,1996,1997,1998,1999,2000,2001,2002,2003,2004,2005,2006,2007,2008,2009,2010,2011,2012,2013,2014,2015,2016,2017,2018,2019,2020,2021,2022],\"y\":[4249104100.0,4445517000.0,4764397600.0,5061776000.0,5182415000.0,5425296000.0,5443816000.0,5650412500.0,5850264600.0,5675153400.0,5517257700.0,5786708000.0,5957917700.0,5985067000.0,6080574000.0,5907320000.0,5800620500.0,5541474000.0,5493134000.0,5744921600.0,5697267700.0,5655609000.0,5822924000.0,6060157400.0,6147958300.0,6139884500.0,6096763000.0,6216769000.0,6310290000.0,6435010000.0,6453725000.0,6638958600.0,6720330000.0,6767301000.0,6864969700.0,7048426000.0,6857520000.0,6859837400.0,6934596600.0,7013343700.0,7042069000.0,6957280000.0,7030173700.0,6832015400.0,6320535000.0,6506400300.0,6360037400.0,6164854000.0,6299595300.0,6368018400.0,6213992000.0,6091915300.0,6078619600.0,6272382000.0,6178177000.0,5626903600.0,5925714400.0,null],\"type\":\"scatter\"},{\"mode\":\"lines\",\"name\":\"World\",\"showlegend\":true,\"x\":[1965,1966,1967,1968,1969,1970,1971,1972,1973,1974,1975,1976,1977,1978,1979,1980,1981,1982,1983,1984,1985,1986,1987,1988,1989,1990,1991,1992,1993,1994,1995,1996,1997,1998,1999,2000,2001,2002,2003,2004,2005,2006,2007,2008,2009,2010,2011,2012,2013,2014,2015,2016,2017,2018,2019,2020,2021,2022],\"y\":[23528948000.0,24142748000.0,24736307000.0,25618143000.0,26375401000.0,27596683000.0,28202478000.0,29130297000.0,30065463000.0,29925347000.0,30165764000.0,31188770000.0,31948120000.0,32418126000.0,33049813000.0,32947655000.0,32579475000.0,32556354000.0,33109391000.0,34397426000.0,34960530000.0,35398316000.0,36161890000.0,37071196000.0,37393690000.0,37861167000.0,38189654000.0,37660260000.0,37883445000.0,38568268000.0,39237210000.0,40058495000.0,42008400000.0,40243634000.0,40820010000.0,41343422000.0,41203966000.0,42279180000.0,44362280000.0,45323980000.0,45839122000.0,47368860000.0,47793620000.0,48658096000.0,48450773000.0,50274144000.0,51856640000.0,52393185000.0,52483064000.0,53155336000.0,53660480000.0,52822622000.0,53405286000.0,54066300000.0,54821320000.0,52585247000.0,54593196000.0,null],\"type\":\"scatter\"}],                        {\"template\":{\"data\":{\"histogram2dcontour\":[{\"type\":\"histogram2dcontour\",\"colorbar\":{\"outlinewidth\":0,\"ticks\":\"\"},\"colorscale\":[[0.0,\"#0d0887\"],[0.1111111111111111,\"#46039f\"],[0.2222222222222222,\"#7201a8\"],[0.3333333333333333,\"#9c179e\"],[0.4444444444444444,\"#bd3786\"],[0.5555555555555556,\"#d8576b\"],[0.6666666666666666,\"#ed7953\"],[0.7777777777777778,\"#fb9f3a\"],[0.8888888888888888,\"#fdca26\"],[1.0,\"#f0f921\"]]}],\"choropleth\":[{\"type\":\"choropleth\",\"colorbar\":{\"outlinewidth\":0,\"ticks\":\"\"}}],\"histogram2d\":[{\"type\":\"histogram2d\",\"colorbar\":{\"outlinewidth\":0,\"ticks\":\"\"},\"colorscale\":[[0.0,\"#0d0887\"],[0.1111111111111111,\"#46039f\"],[0.2222222222222222,\"#7201a8\"],[0.3333333333333333,\"#9c179e\"],[0.4444444444444444,\"#bd3786\"],[0.5555555555555556,\"#d8576b\"],[0.6666666666666666,\"#ed7953\"],[0.7777777777777778,\"#fb9f3a\"],[0.8888888888888888,\"#fdca26\"],[1.0,\"#f0f921\"]]}],\"heatmap\":[{\"type\":\"heatmap\",\"colorbar\":{\"outlinewidth\":0,\"ticks\":\"\"},\"colorscale\":[[0.0,\"#0d0887\"],[0.1111111111111111,\"#46039f\"],[0.2222222222222222,\"#7201a8\"],[0.3333333333333333,\"#9c179e\"],[0.4444444444444444,\"#bd3786\"],[0.5555555555555556,\"#d8576b\"],[0.6666666666666666,\"#ed7953\"],[0.7777777777777778,\"#fb9f3a\"],[0.8888888888888888,\"#fdca26\"],[1.0,\"#f0f921\"]]}],\"heatmapgl\":[{\"type\":\"heatmapgl\",\"colorbar\":{\"outlinewidth\":0,\"ticks\":\"\"},\"colorscale\":[[0.0,\"#0d0887\"],[0.1111111111111111,\"#46039f\"],[0.2222222222222222,\"#7201a8\"],[0.3333333333333333,\"#9c179e\"],[0.4444444444444444,\"#bd3786\"],[0.5555555555555556,\"#d8576b\"],[0.6666666666666666,\"#ed7953\"],[0.7777777777777778,\"#fb9f3a\"],[0.8888888888888888,\"#fdca26\"],[1.0,\"#f0f921\"]]}],\"contourcarpet\":[{\"type\":\"contourcarpet\",\"colorbar\":{\"outlinewidth\":0,\"ticks\":\"\"}}],\"contour\":[{\"type\":\"contour\",\"colorbar\":{\"outlinewidth\":0,\"ticks\":\"\"},\"colorscale\":[[0.0,\"#0d0887\"],[0.1111111111111111,\"#46039f\"],[0.2222222222222222,\"#7201a8\"],[0.3333333333333333,\"#9c179e\"],[0.4444444444444444,\"#bd3786\"],[0.5555555555555556,\"#d8576b\"],[0.6666666666666666,\"#ed7953\"],[0.7777777777777778,\"#fb9f3a\"],[0.8888888888888888,\"#fdca26\"],[1.0,\"#f0f921\"]]}],\"surface\":[{\"type\":\"surface\",\"colorbar\":{\"outlinewidth\":0,\"ticks\":\"\"},\"colorscale\":[[0.0,\"#0d0887\"],[0.1111111111111111,\"#46039f\"],[0.2222222222222222,\"#7201a8\"],[0.3333333333333333,\"#9c179e\"],[0.4444444444444444,\"#bd3786\"],[0.5555555555555556,\"#d8576b\"],[0.6666666666666666,\"#ed7953\"],[0.7777777777777778,\"#fb9f3a\"],[0.8888888888888888,\"#fdca26\"],[1.0,\"#f0f921\"]]}],\"mesh3d\":[{\"type\":\"mesh3d\",\"colorbar\":{\"outlinewidth\":0,\"ticks\":\"\"}}],\"scatter\":[{\"fillpattern\":{\"fillmode\":\"overlay\",\"size\":10,\"solidity\":0.2},\"type\":\"scatter\"}],\"parcoords\":[{\"type\":\"parcoords\",\"line\":{\"colorbar\":{\"outlinewidth\":0,\"ticks\":\"\"}}}],\"scatterpolargl\":[{\"type\":\"scatterpolargl\",\"marker\":{\"colorbar\":{\"outlinewidth\":0,\"ticks\":\"\"}}}],\"bar\":[{\"error_x\":{\"color\":\"#2a3f5f\"},\"error_y\":{\"color\":\"#2a3f5f\"},\"marker\":{\"line\":{\"color\":\"#E5ECF6\",\"width\":0.5},\"pattern\":{\"fillmode\":\"overlay\",\"size\":10,\"solidity\":0.2}},\"type\":\"bar\"}],\"scattergeo\":[{\"type\":\"scattergeo\",\"marker\":{\"colorbar\":{\"outlinewidth\":0,\"ticks\":\"\"}}}],\"scatterpolar\":[{\"type\":\"scatterpolar\",\"marker\":{\"colorbar\":{\"outlinewidth\":0,\"ticks\":\"\"}}}],\"histogram\":[{\"marker\":{\"pattern\":{\"fillmode\":\"overlay\",\"size\":10,\"solidity\":0.2}},\"type\":\"histogram\"}],\"scattergl\":[{\"type\":\"scattergl\",\"marker\":{\"colorbar\":{\"outlinewidth\":0,\"ticks\":\"\"}}}],\"scatter3d\":[{\"type\":\"scatter3d\",\"line\":{\"colorbar\":{\"outlinewidth\":0,\"ticks\":\"\"}},\"marker\":{\"colorbar\":{\"outlinewidth\":0,\"ticks\":\"\"}}}],\"scattermapbox\":[{\"type\":\"scattermapbox\",\"marker\":{\"colorbar\":{\"outlinewidth\":0,\"ticks\":\"\"}}}],\"scatterternary\":[{\"type\":\"scatterternary\",\"marker\":{\"colorbar\":{\"outlinewidth\":0,\"ticks\":\"\"}}}],\"scattercarpet\":[{\"type\":\"scattercarpet\",\"marker\":{\"colorbar\":{\"outlinewidth\":0,\"ticks\":\"\"}}}],\"carpet\":[{\"aaxis\":{\"endlinecolor\":\"#2a3f5f\",\"gridcolor\":\"white\",\"linecolor\":\"white\",\"minorgridcolor\":\"white\",\"startlinecolor\":\"#2a3f5f\"},\"baxis\":{\"endlinecolor\":\"#2a3f5f\",\"gridcolor\":\"white\",\"linecolor\":\"white\",\"minorgridcolor\":\"white\",\"startlinecolor\":\"#2a3f5f\"},\"type\":\"carpet\"}],\"table\":[{\"cells\":{\"fill\":{\"color\":\"#EBF0F8\"},\"line\":{\"color\":\"white\"}},\"header\":{\"fill\":{\"color\":\"#C8D4E3\"},\"line\":{\"color\":\"white\"}},\"type\":\"table\"}],\"barpolar\":[{\"marker\":{\"line\":{\"color\":\"#E5ECF6\",\"width\":0.5},\"pattern\":{\"fillmode\":\"overlay\",\"size\":10,\"solidity\":0.2}},\"type\":\"barpolar\"}],\"pie\":[{\"automargin\":true,\"type\":\"pie\"}]},\"layout\":{\"autotypenumbers\":\"strict\",\"colorway\":[\"#636efa\",\"#EF553B\",\"#00cc96\",\"#ab63fa\",\"#FFA15A\",\"#19d3f3\",\"#FF6692\",\"#B6E880\",\"#FF97FF\",\"#FECB52\"],\"font\":{\"color\":\"#2a3f5f\"},\"hovermode\":\"closest\",\"hoverlabel\":{\"align\":\"left\"},\"paper_bgcolor\":\"white\",\"plot_bgcolor\":\"#E5ECF6\",\"polar\":{\"bgcolor\":\"#E5ECF6\",\"angularaxis\":{\"gridcolor\":\"white\",\"linecolor\":\"white\",\"ticks\":\"\"},\"radialaxis\":{\"gridcolor\":\"white\",\"linecolor\":\"white\",\"ticks\":\"\"}},\"ternary\":{\"bgcolor\":\"#E5ECF6\",\"aaxis\":{\"gridcolor\":\"white\",\"linecolor\":\"white\",\"ticks\":\"\"},\"baxis\":{\"gridcolor\":\"white\",\"linecolor\":\"white\",\"ticks\":\"\"},\"caxis\":{\"gridcolor\":\"white\",\"linecolor\":\"white\",\"ticks\":\"\"}},\"coloraxis\":{\"colorbar\":{\"outlinewidth\":0,\"ticks\":\"\"}},\"colorscale\":{\"sequential\":[[0.0,\"#0d0887\"],[0.1111111111111111,\"#46039f\"],[0.2222222222222222,\"#7201a8\"],[0.3333333333333333,\"#9c179e\"],[0.4444444444444444,\"#bd3786\"],[0.5555555555555556,\"#d8576b\"],[0.6666666666666666,\"#ed7953\"],[0.7777777777777778,\"#fb9f3a\"],[0.8888888888888888,\"#fdca26\"],[1.0,\"#f0f921\"]],\"sequentialminus\":[[0.0,\"#0d0887\"],[0.1111111111111111,\"#46039f\"],[0.2222222222222222,\"#7201a8\"],[0.3333333333333333,\"#9c179e\"],[0.4444444444444444,\"#bd3786\"],[0.5555555555555556,\"#d8576b\"],[0.6666666666666666,\"#ed7953\"],[0.7777777777777778,\"#fb9f3a\"],[0.8888888888888888,\"#fdca26\"],[1.0,\"#f0f921\"]],\"diverging\":[[0,\"#8e0152\"],[0.1,\"#c51b7d\"],[0.2,\"#de77ae\"],[0.3,\"#f1b6da\"],[0.4,\"#fde0ef\"],[0.5,\"#f7f7f7\"],[0.6,\"#e6f5d0\"],[0.7,\"#b8e186\"],[0.8,\"#7fbc41\"],[0.9,\"#4d9221\"],[1,\"#276419\"]]},\"xaxis\":{\"gridcolor\":\"white\",\"linecolor\":\"white\",\"ticks\":\"\",\"title\":{\"standoff\":15},\"zerolinecolor\":\"white\",\"automargin\":true,\"zerolinewidth\":2},\"yaxis\":{\"gridcolor\":\"white\",\"linecolor\":\"white\",\"ticks\":\"\",\"title\":{\"standoff\":15},\"zerolinecolor\":\"white\",\"automargin\":true,\"zerolinewidth\":2},\"scene\":{\"xaxis\":{\"backgroundcolor\":\"#E5ECF6\",\"gridcolor\":\"white\",\"linecolor\":\"white\",\"showbackground\":true,\"ticks\":\"\",\"zerolinecolor\":\"white\",\"gridwidth\":2},\"yaxis\":{\"backgroundcolor\":\"#E5ECF6\",\"gridcolor\":\"white\",\"linecolor\":\"white\",\"showbackground\":true,\"ticks\":\"\",\"zerolinecolor\":\"white\",\"gridwidth\":2},\"zaxis\":{\"backgroundcolor\":\"#E5ECF6\",\"gridcolor\":\"white\",\"linecolor\":\"white\",\"showbackground\":true,\"ticks\":\"\",\"zerolinecolor\":\"white\",\"gridwidth\":2}},\"shapedefaults\":{\"line\":{\"color\":\"#2a3f5f\"}},\"annotationdefaults\":{\"arrowcolor\":\"#2a3f5f\",\"arrowhead\":0,\"arrowwidth\":1},\"geo\":{\"bgcolor\":\"white\",\"landcolor\":\"#E5ECF6\",\"subunitcolor\":\"white\",\"showland\":true,\"showlakes\":true,\"lakecolor\":\"white\"},\"title\":{\"x\":0.05},\"mapbox\":{\"style\":\"light\"}}},\"height\":400,\"title\":{\"text\":\"Annual greenhouse gas emissions in CO2 equivalents\"},\"xaxis\":{\"title\":{\"text\":\"Year\"}},\"yaxis\":{\"title\":{\"text\":\"Annual greenhouse gas emissions in CO2 equivalents\"}},\"plot_bgcolor\":\"white\",\"paper_bgcolor\":\"white\"},                        {\"responsive\": true}                    ).then(function(){\n",
       "                            \n",
       "var gd = document.getElementById('c3fd68eb-ed2c-487a-999a-2cfc99c93ccf');\n",
       "var x = new MutationObserver(function (mutations, observer) {{\n",
       "        var display = window.getComputedStyle(gd).display;\n",
       "        if (!display || display === 'none') {{\n",
       "            console.log([gd, 'removed!']);\n",
       "            Plotly.purge(gd);\n",
       "            observer.disconnect();\n",
       "        }}\n",
       "}});\n",
       "\n",
       "// Listen for the removal of the full notebook cells\n",
       "var notebookContainer = gd.closest('#notebook-container');\n",
       "if (notebookContainer) {{\n",
       "    x.observe(notebookContainer, {childList: true});\n",
       "}}\n",
       "\n",
       "// Listen for the clearing of the current output cell\n",
       "var outputEl = gd.closest('.output');\n",
       "if (outputEl) {{\n",
       "    x.observe(outputEl, {childList: true});\n",
       "}}\n",
       "\n",
       "                        })                };                });            </script>        </div>"
      ]
     },
     "metadata": {},
     "output_type": "display_data"
    },
    {
     "data": {
      "application/vnd.jupyter.widget-view+json": {
       "model_id": "bbe0bfce605747b0a09b4af823f36e25",
       "version_major": 2,
       "version_minor": 0
      },
      "text/plain": [
       "VBox(children=(HBox(children=(VBox(children=(HBox(children=(Text(value='', layout=Layout(width='95%'), placeho…"
      ]
     },
     "metadata": {},
     "output_type": "display_data"
    }
   ],
   "source": [
    "import pandas as pd\n",
    "import plotly.graph_objects as go\n",
    "import ipywidgets as widgets\n",
    "from IPython.display import display, clear_output\n",
    "from IPython.core.display import HTML\n",
    "\n",
    "\n",
    "\n",
    "\n",
    "# Presuming df_main is already available\n",
    "filtered_df = df_main\n",
    "\n",
    "# Extract unique countries from the dataframe\n",
    "all_countries = sorted(filtered_df['Entity'].drop_duplicates().astype(str).tolist())\n",
    "\n",
    "# Set a default list of countries for the user interface\n",
    "default_countries = ['Germany', 'China', 'India', 'United States', 'World']\n",
    "left_container_width = '270px'  # Zum Beispiel, wenn die ursprüngliche Breite 200px war\n",
    "\n",
    "\n",
    "# Update list of countries based on user search input\n",
    "def update_country_list(*args):\n",
    "    # Extracting selected countries based on current checkbox selections\n",
    "    selected_countries = [cb.description for cb in checkboxes_container.children if cb.value]\n",
    "\n",
    "    search_input = search_box.value\n",
    "    # Filtering countries based on search criteria\n",
    "    search_results = [country for country in all_countries if search_input.lower() in country.lower()]\n",
    "    \n",
    "    # Merge the search results with previously selected countries and remove duplicates\n",
    "    updated_countries = list(set(search_results + selected_countries))\n",
    "    \n",
    "    # Prioritize selected countries to be shown at the top\n",
    "    updated_countries = sorted(updated_countries, key=lambda x: (x not in selected_countries, x))\n",
    "    \n",
    "    updated_checkboxes = [widgets.Checkbox(value=(country in selected_countries), description=country,\n",
    "                                           layout=widgets.Layout(width=\"100%\", padding=\"0px\")) for country in updated_countries]\n",
    "    for cb in updated_checkboxes:\n",
    "        cb.observe(plot_selected_countries, names='value')\n",
    "    checkboxes_container.children = tuple(updated_checkboxes)\n",
    "\n",
    "\n",
    "# Creating the search box widget\n",
    "search_box = widgets.Text(value='', placeholder='Search for Countries...', description='', layout=widgets.Layout(width=\"95%\"))\n",
    "search_box.observe(update_country_list, names='value')\n",
    "\n",
    "clear_button = widgets.Button(description=\"X\", layout=widgets.Layout(width=\"5%\"))\n",
    "def clear_search_field(change):\n",
    "    search_box.value = ''\n",
    "clear_button.on_click(clear_search_field)\n",
    "\n",
    "# Creating country checkboxes widget\n",
    "country_checkboxes = [widgets.Checkbox(value=(country in default_countries), description=country,\n",
    "                                       layout=widgets.Layout(width=\"100%\", padding=\"0px\")) for country in all_countries]\n",
    "checkboxes_container = widgets.VBox(country_checkboxes,\n",
    "                                    layout=widgets.Layout(overflow_y=\"scroll\", height=\"400px\", border=\"1px solid #DDD\"))\n",
    "\n",
    "# Output widget to display the plot\n",
    "out = widgets.Output(layout=widgets.Layout(height=\"400px\", width=\"60%\"))\n",
    "out.layout.height = \"400px\"\n",
    "checkboxes_container.layout.height = \"400px\"\n",
    "\n",
    "# Function to plot data for the selected countries\n",
    "def create_plot_for_column(column):\n",
    "    \n",
    "    # Funktion, um Daten für die ausgewählten Länder zu plotten\n",
    "    def plot_for_column(change=None):\n",
    "        selected_countries = [cb.description for cb in checkboxes_container.children if cb.value]\n",
    "        sorted_checkboxes = sorted(checkboxes_container.children, key=lambda cb: (cb.description not in selected_countries, cb.description))\n",
    "        checkboxes_container.children = tuple(sorted_checkboxes)\n",
    "\n",
    "        with out:\n",
    "            clear_output(wait=True)\n",
    "            fig = go.Figure()\n",
    "            fig_height = 400  \n",
    "            fig.update_layout(height=fig_height)\n",
    "            for country in selected_countries:\n",
    "                country_data = filtered_df[filtered_df['Entity'] == country]\n",
    "                fig.add_trace(go.Scatter(x=country_data['Year'], y=country_data[column], mode='lines', name=country, showlegend=True))\n",
    "            \n",
    "            # Aktualisieren des Layouts für den Plot\n",
    "            fig.update_layout(title=column, \n",
    "                              xaxis_title='Year',\n",
    "                              yaxis_title=column,\n",
    "                              plot_bgcolor='white', \n",
    "                              paper_bgcolor='white')\n",
    "\n",
    "            # ... (restliche Plot-Einstellungen)\n",
    "\n",
    "            fig.show()\n",
    "    \n",
    "    # Erstellen von Widgets speziell für diese Spalte\n",
    "    country_checkboxes = [widgets.Checkbox(value=(country in default_countries), description=country,\n",
    "                                           layout=widgets.Layout(width=\"100%\", padding=\"0px\")) for country in all_countries]\n",
    "    for cb in country_checkboxes:\n",
    "        cb.observe(plot_for_column, names='value')\n",
    "    checkboxes_container = widgets.VBox(country_checkboxes, layout=widgets.Layout(overflow_y=\"scroll\", height=\"400px\", border=\"1px solid #DDD\"))\n",
    "    \n",
    "    out = widgets.Output(layout=widgets.Layout(height=\"400px\", width=\"60%\"))\n",
    "\n",
    "    left_container = widgets.VBox([widgets.HBox([search_box, clear_button]), checkboxes_container],\n",
    "                                  layout=widgets.Layout(width=left_container_width, border=\"1px solid #DDD\", padding=\"5px 0px 0px 0px\"))\n",
    "\n",
    "    # Display the output for this column\n",
    "    display(widgets.VBox([widgets.HBox([left_container, out])]))\n",
    "    plot_for_column()\n",
    "\n",
    "# Für jede Spalte, die Sie plotten möchten:\n",
    "columns_to_plot = filtered_df.columns[df_main.columns.get_loc('Code')+1:]\n",
    "for col in columns_to_plot:\n",
    "    create_plot_for_column(col)\n",
    "\n",
    "\n",
    "# Adding listener for change in checkbox selection to update the plot\n",
    "for cb in country_checkboxes:\n",
    "    cb.observe(plot_selected_countries, names='value')\n",
    "\n",
    "\n",
    "left_container = widgets.VBox([widgets.HBox([search_box, clear_button]), checkboxes_container],\n",
    "                              layout=widgets.Layout(width=left_container_width, border=\"1px solid #DDD\", padding=\"5px 0px 0px 0px\"))\n",
    "    \n",
    "display(HTML(\"\"\"\n",
    "<style>\n",
    "    :root {\n",
    "        --jp-widgets-inline-label-width: auto !important;\n",
    "    }\n",
    "</style>\n",
    "\"\"\"))\n",
    "\n",
    "display(widgets.HBox([left_container, out]))\n",
    "plot_selected_countries()\n"
   ]
  },
  {
   "cell_type": "code",
   "execution_count": 9,
   "id": "992d711f-d1d5-4ff4-a98b-57cbfec65613",
   "metadata": {},
   "outputs": [
    {
     "data": {
      "application/vnd.jupyter.widget-view+json": {
       "model_id": "cce637ddfa6e4edfa33bc864f83e5dba",
       "version_major": 2,
       "version_minor": 0
      },
      "text/plain": [
       "VBox(children=(HBox(children=(VBox(children=(HBox(children=(Text(value='', layout=Layout(width='95%'), placeho…"
      ]
     },
     "metadata": {},
     "output_type": "display_data"
    },
    {
     "data": {
      "application/vnd.jupyter.widget-view+json": {
       "model_id": "c6642806e5df4ff0a71de676ed41f3a2",
       "version_major": 2,
       "version_minor": 0
      },
      "text/plain": [
       "VBox(children=(HBox(children=(VBox(children=(HBox(children=(Text(value='', layout=Layout(width='95%'), placeho…"
      ]
     },
     "metadata": {},
     "output_type": "display_data"
    },
    {
     "data": {
      "application/vnd.jupyter.widget-view+json": {
       "model_id": "964d69a04c144a959527ca25d86a40b0",
       "version_major": 2,
       "version_minor": 0
      },
      "text/plain": [
       "VBox(children=(HBox(children=(VBox(children=(HBox(children=(Text(value='', layout=Layout(width='95%'), placeho…"
      ]
     },
     "metadata": {},
     "output_type": "display_data"
    },
    {
     "data": {
      "application/vnd.jupyter.widget-view+json": {
       "model_id": "b3c502433e2d47ecb6d5debe9151fc4d",
       "version_major": 2,
       "version_minor": 0
      },
      "text/plain": [
       "VBox(children=(HBox(children=(VBox(children=(HBox(children=(Text(value='', layout=Layout(width='95%'), placeho…"
      ]
     },
     "metadata": {},
     "output_type": "display_data"
    },
    {
     "data": {
      "application/vnd.jupyter.widget-view+json": {
       "model_id": "daf981497294469c8a9b0ce71614c326",
       "version_major": 2,
       "version_minor": 0
      },
      "text/plain": [
       "VBox(children=(HBox(children=(VBox(children=(HBox(children=(Text(value='', layout=Layout(width='95%'), placeho…"
      ]
     },
     "metadata": {},
     "output_type": "display_data"
    },
    {
     "data": {
      "application/vnd.jupyter.widget-view+json": {
       "model_id": "347238ee348645068427fdf335391014",
       "version_major": 2,
       "version_minor": 0
      },
      "text/plain": [
       "VBox(children=(HBox(children=(VBox(children=(HBox(children=(Text(value='', layout=Layout(width='95%'), placeho…"
      ]
     },
     "metadata": {},
     "output_type": "display_data"
    },
    {
     "data": {
      "application/vnd.jupyter.widget-view+json": {
       "model_id": "9716330cf4b04de28571ab7a22cd1f2d",
       "version_major": 2,
       "version_minor": 0
      },
      "text/plain": [
       "VBox(children=(HBox(children=(VBox(children=(HBox(children=(Text(value='', layout=Layout(width='95%'), placeho…"
      ]
     },
     "metadata": {},
     "output_type": "display_data"
    },
    {
     "data": {
      "application/vnd.jupyter.widget-view+json": {
       "model_id": "fe773aa5fedc4051a60a4869bdb67b56",
       "version_major": 2,
       "version_minor": 0
      },
      "text/plain": [
       "VBox(children=(HBox(children=(VBox(children=(HBox(children=(Text(value='', layout=Layout(width='95%'), placeho…"
      ]
     },
     "metadata": {},
     "output_type": "display_data"
    },
    {
     "data": {
      "application/vnd.jupyter.widget-view+json": {
       "model_id": "7e8ed7a94f8449e4aee2c45b2dd2f241",
       "version_major": 2,
       "version_minor": 0
      },
      "text/plain": [
       "VBox(children=(HBox(children=(VBox(children=(HBox(children=(Text(value='', layout=Layout(width='95%'), placeho…"
      ]
     },
     "metadata": {},
     "output_type": "display_data"
    },
    {
     "data": {
      "application/vnd.jupyter.widget-view+json": {
       "model_id": "12e7aa70b6ab438aa5d630605b33207a",
       "version_major": 2,
       "version_minor": 0
      },
      "text/plain": [
       "VBox(children=(HBox(children=(VBox(children=(HBox(children=(Text(value='', layout=Layout(width='95%'), placeho…"
      ]
     },
     "metadata": {},
     "output_type": "display_data"
    },
    {
     "data": {
      "application/vnd.jupyter.widget-view+json": {
       "model_id": "aa10657f22754a978e1ab22e2ed53cde",
       "version_major": 2,
       "version_minor": 0
      },
      "text/plain": [
       "VBox(children=(HBox(children=(VBox(children=(HBox(children=(Text(value='', layout=Layout(width='95%'), placeho…"
      ]
     },
     "metadata": {},
     "output_type": "display_data"
    },
    {
     "data": {
      "application/vnd.jupyter.widget-view+json": {
       "model_id": "a1533d94e8044e87acc71ed2419d485f",
       "version_major": 2,
       "version_minor": 0
      },
      "text/plain": [
       "VBox(children=(HBox(children=(VBox(children=(HBox(children=(Text(value='', layout=Layout(width='95%'), placeho…"
      ]
     },
     "metadata": {},
     "output_type": "display_data"
    },
    {
     "data": {
      "application/vnd.jupyter.widget-view+json": {
       "model_id": "808397d5a8554740a1df7c88bf1a95fa",
       "version_major": 2,
       "version_minor": 0
      },
      "text/plain": [
       "VBox(children=(HBox(children=(VBox(children=(HBox(children=(Text(value='', layout=Layout(width='95%'), placeho…"
      ]
     },
     "metadata": {},
     "output_type": "display_data"
    },
    {
     "data": {
      "application/vnd.jupyter.widget-view+json": {
       "model_id": "26a96dc91a6b4d6cab7a88fbaeeef768",
       "version_major": 2,
       "version_minor": 0
      },
      "text/plain": [
       "VBox(children=(HBox(children=(VBox(children=(HBox(children=(Text(value='', layout=Layout(width='95%'), placeho…"
      ]
     },
     "metadata": {},
     "output_type": "display_data"
    },
    {
     "data": {
      "application/vnd.jupyter.widget-view+json": {
       "model_id": "9d526e9636fb43afa9a7de1b5b9e1c35",
       "version_major": 2,
       "version_minor": 0
      },
      "text/plain": [
       "VBox(children=(HBox(children=(VBox(children=(HBox(children=(Text(value='', layout=Layout(width='95%'), placeho…"
      ]
     },
     "metadata": {},
     "output_type": "display_data"
    },
    {
     "data": {
      "application/vnd.jupyter.widget-view+json": {
       "model_id": "b306e223f3c740ca9922ed1851355b89",
       "version_major": 2,
       "version_minor": 0
      },
      "text/plain": [
       "VBox(children=(HBox(children=(VBox(children=(HBox(children=(Text(value='', layout=Layout(width='95%'), placeho…"
      ]
     },
     "metadata": {},
     "output_type": "display_data"
    },
    {
     "data": {
      "application/vnd.jupyter.widget-view+json": {
       "model_id": "76b8ae1b20b5435f82484f2bcd98fd7b",
       "version_major": 2,
       "version_minor": 0
      },
      "text/plain": [
       "VBox(children=(HBox(children=(VBox(children=(HBox(children=(Text(value='', layout=Layout(width='95%'), placeho…"
      ]
     },
     "metadata": {},
     "output_type": "display_data"
    },
    {
     "data": {
      "application/vnd.jupyter.widget-view+json": {
       "model_id": "78ff4df63af0432b8e0380d9750de178",
       "version_major": 2,
       "version_minor": 0
      },
      "text/plain": [
       "VBox(children=(HBox(children=(VBox(children=(HBox(children=(Text(value='', layout=Layout(width='95%'), placeho…"
      ]
     },
     "metadata": {},
     "output_type": "display_data"
    },
    {
     "data": {
      "application/vnd.jupyter.widget-view+json": {
       "model_id": "d05ea46591ed4f4990c83d474501c946",
       "version_major": 2,
       "version_minor": 0
      },
      "text/plain": [
       "VBox(children=(HBox(children=(VBox(children=(HBox(children=(Text(value='', layout=Layout(width='95%'), placeho…"
      ]
     },
     "metadata": {},
     "output_type": "display_data"
    },
    {
     "data": {
      "application/vnd.jupyter.widget-view+json": {
       "model_id": "0c3eaa3b345d43debe72f2c92806fbed",
       "version_major": 2,
       "version_minor": 0
      },
      "text/plain": [
       "VBox(children=(HBox(children=(VBox(children=(HBox(children=(Text(value='', layout=Layout(width='95%'), placeho…"
      ]
     },
     "metadata": {},
     "output_type": "display_data"
    },
    {
     "data": {
      "text/html": [
       "\n",
       "<style>\n",
       "    :root {\n",
       "        --jp-widgets-inline-label-width: auto !important;\n",
       "    }\n",
       "</style>\n"
      ],
      "text/plain": [
       "<IPython.core.display.HTML object>"
      ]
     },
     "metadata": {},
     "output_type": "display_data"
    },
    {
     "data": {
      "application/vnd.jupyter.widget-view+json": {
       "model_id": "4a1ff902dd18470ea5d8c470366c5e98",
       "version_major": 2,
       "version_minor": 0
      },
      "text/plain": [
       "HBox(children=(VBox(children=(HBox(children=(Text(value='', layout=Layout(width='95%'), placeholder='Search fo…"
      ]
     },
     "metadata": {},
     "output_type": "display_data"
    }
   ],
   "source": [
    "import pandas as pd\n",
    "import plotly.graph_objects as go\n",
    "import ipywidgets as widgets\n",
    "from IPython.display import display, clear_output\n",
    "from IPython.core.display import HTML\n",
    "\n",
    "# Presuming df_main is already available\n",
    "filtered_df = df_main\n",
    "\n",
    "# Extract unique countries from the dataframe\n",
    "all_countries = sorted(filtered_df['Entity'].drop_duplicates().astype(str).tolist())\n",
    "\n",
    "# Set a default list of countries for the user interface\n",
    "default_countries = ['Germany', 'China', 'India', 'United States', 'World']\n",
    "left_container_width = '270px'\n",
    "\n",
    "# Update list of countries based on user search input\n",
    "def update_country_list(*args):\n",
    "    selected_countries = [cb.description for cb in checkboxes_container.children if cb.value]\n",
    "    search_input = search_box.value\n",
    "    search_results = [country for country in all_countries if search_input.lower() in country.lower()]\n",
    "    updated_countries = list(set(search_results + selected_countries))\n",
    "    updated_countries = sorted(updated_countries, key=lambda x: (x not in selected_countries, x))\n",
    "    updated_checkboxes = [widgets.Checkbox(value=(country in selected_countries), description=country,\n",
    "                                           layout=widgets.Layout(width=\"100%\", padding=\"0px\")) for country in updated_countries]\n",
    "    checkboxes_container.children = tuple(updated_checkboxes)\n",
    "\n",
    "# Creating the search box widget\n",
    "search_box = widgets.Text(value='', placeholder='Search for Countries...', description='', layout=widgets.Layout(width=\"95%\"))\n",
    "search_box.observe(update_country_list, names='value')\n",
    "\n",
    "clear_button = widgets.Button(description=\"X\", layout=widgets.Layout(width=\"5%\"))\n",
    "def clear_search_field(change):\n",
    "    search_box.value = ''\n",
    "clear_button.on_click(clear_search_field)\n",
    "\n",
    "# Creating country checkboxes widget\n",
    "country_checkboxes = [widgets.Checkbox(value=(country in default_countries), description=country,\n",
    "                                       layout=widgets.Layout(width=\"100%\", padding=\"0px\")) for country in all_countries]\n",
    "checkboxes_container = widgets.VBox(country_checkboxes, layout=widgets.Layout(overflow_y=\"scroll\", height=\"400px\", border=\"1px solid #DDD\"))\n",
    "\n",
    "# Output widget to display the plot\n",
    "out = widgets.Output(layout=widgets.Layout(height=\"400px\", width=\"60%\"))\n",
    "\n",
    "# Function to plot data for the selected countries\n",
    "def create_plot_for_column(column):\n",
    "    def plot_for_column(change=None):\n",
    "        selected_countries = [cb.description for cb in checkboxes_container.children if cb.value]\n",
    "        with out:\n",
    "            clear_output(wait=True)\n",
    "            fig = go.Figure()\n",
    "            fig_height = 400  \n",
    "            fig.update_layout(height=fig_height)\n",
    "            for country in selected_countries:\n",
    "                country_data = filtered_df[filtered_df['Entity'] == country]\n",
    "                fig.add_trace(go.Scatter(x=country_data['Year'], y=country_data[column], mode='lines', name=country, showlegend=True))\n",
    "            fig.update_layout(title=column, xaxis_title='Year', yaxis_title=column, plot_bgcolor='white', paper_bgcolor='white')\n",
    "            fig.show()\n",
    "\n",
    "    display(widgets.VBox([widgets.HBox([left_container, out])]))\n",
    "    plot_for_column()\n",
    "\n",
    "# Für jede Spalte, die Sie plotten möchten:\n",
    "columns_to_plot = filtered_df.columns[filtered_df.columns.get_loc('Code')+1:]\n",
    "for col in columns_to_plot:\n",
    "    create_plot_for_column(col)\n",
    "\n",
    "left_container = widgets.VBox([widgets.HBox([search_box, clear_button]), checkboxes_container],\n",
    "                              layout=widgets.Layout(width=left_container_width, border=\"1px solid #DDD\", padding=\"5px 0px 0px 0px\"))\n",
    "\n",
    "display(HTML(\"\"\"\n",
    "<style>\n",
    "    :root {\n",
    "        --jp-widgets-inline-label-width: auto !important;\n",
    "    }\n",
    "</style>\n",
    "\"\"\"))\n",
    "\n",
    "display(widgets.HBox([left_container, out]))\n"
   ]
  },
  {
   "cell_type": "code",
   "execution_count": 10,
   "id": "4fcb8dd0-73e0-48bc-b478-42de7fc3f1e0",
   "metadata": {
    "tags": []
   },
   "outputs": [
    {
     "name": "stdout",
     "output_type": "stream",
     "text": [
      "Requirement already satisfied: jupyterlab in c:\\users\\alpha\\anaconda3\\envs\\pythonkurs\\lib\\site-packages (3.6.3)\n",
      "Collecting jupyterlab\n",
      "  Using cached jupyterlab-4.0.7-py3-none-any.whl (9.2 MB)\n",
      "Collecting async-lru>=1.0.0 (from jupyterlab)\n",
      "  Using cached async_lru-2.0.4-py3-none-any.whl (6.1 kB)\n",
      "Requirement already satisfied: ipykernel in c:\\users\\alpha\\anaconda3\\envs\\pythonkurs\\lib\\site-packages (from jupyterlab) (6.19.2)\n",
      "Requirement already satisfied: jinja2>=3.0.3 in c:\\users\\alpha\\anaconda3\\envs\\pythonkurs\\lib\\site-packages (from jupyterlab) (3.1.2)\n",
      "Requirement already satisfied: jupyter-core in c:\\users\\alpha\\anaconda3\\envs\\pythonkurs\\lib\\site-packages (from jupyterlab) (5.3.0)\n",
      "Collecting jupyter-lsp>=2.0.0 (from jupyterlab)\n",
      "  Using cached jupyter_lsp-2.2.0-py3-none-any.whl (65 kB)\n",
      "Requirement already satisfied: jupyter-server<3,>=2.4.0 in c:\\users\\alpha\\anaconda3\\envs\\pythonkurs\\lib\\site-packages (from jupyterlab) (2.5.0)\n",
      "Requirement already satisfied: jupyterlab-server<3,>=2.19.0 in c:\\users\\alpha\\anaconda3\\envs\\pythonkurs\\lib\\site-packages (from jupyterlab) (2.22.0)\n",
      "Requirement already satisfied: notebook-shim>=0.2 in c:\\users\\alpha\\anaconda3\\envs\\pythonkurs\\lib\\site-packages (from jupyterlab) (0.2.2)\n",
      "Requirement already satisfied: packaging in c:\\users\\alpha\\anaconda3\\envs\\pythonkurs\\lib\\site-packages (from jupyterlab) (23.0)\n",
      "Requirement already satisfied: tornado>=6.2.0 in c:\\users\\alpha\\anaconda3\\envs\\pythonkurs\\lib\\site-packages (from jupyterlab) (6.2)\n",
      "Requirement already satisfied: traitlets in c:\\users\\alpha\\anaconda3\\envs\\pythonkurs\\lib\\site-packages (from jupyterlab) (5.7.1)\n",
      "Requirement already satisfied: MarkupSafe>=2.0 in c:\\users\\alpha\\anaconda3\\envs\\pythonkurs\\lib\\site-packages (from jinja2>=3.0.3->jupyterlab) (2.1.1)\n",
      "Requirement already satisfied: anyio>=3.1.0 in c:\\users\\alpha\\anaconda3\\envs\\pythonkurs\\lib\\site-packages (from jupyter-server<3,>=2.4.0->jupyterlab) (3.5.0)\n",
      "Requirement already satisfied: argon2-cffi in c:\\users\\alpha\\anaconda3\\envs\\pythonkurs\\lib\\site-packages (from jupyter-server<3,>=2.4.0->jupyterlab) (21.3.0)\n",
      "Requirement already satisfied: jupyter-client>=7.4.4 in c:\\users\\alpha\\anaconda3\\envs\\pythonkurs\\lib\\site-packages (from jupyter-server<3,>=2.4.0->jupyterlab) (8.1.0)\n",
      "Requirement already satisfied: jupyter-events>=0.4.0 in c:\\users\\alpha\\anaconda3\\envs\\pythonkurs\\lib\\site-packages (from jupyter-server<3,>=2.4.0->jupyterlab) (0.6.3)\n",
      "Requirement already satisfied: jupyter-server-terminals in c:\\users\\alpha\\anaconda3\\envs\\pythonkurs\\lib\\site-packages (from jupyter-server<3,>=2.4.0->jupyterlab) (0.4.4)\n",
      "Requirement already satisfied: nbconvert>=6.4.4 in c:\\users\\alpha\\anaconda3\\envs\\pythonkurs\\lib\\site-packages (from jupyter-server<3,>=2.4.0->jupyterlab) (6.5.4)\n",
      "Requirement already satisfied: nbformat>=5.3.0 in c:\\users\\alpha\\anaconda3\\envs\\pythonkurs\\lib\\site-packages (from jupyter-server<3,>=2.4.0->jupyterlab) (5.7.0)\n",
      "Requirement already satisfied: prometheus-client in c:\\users\\alpha\\anaconda3\\envs\\pythonkurs\\lib\\site-packages (from jupyter-server<3,>=2.4.0->jupyterlab) (0.14.1)\n",
      "Requirement already satisfied: pywinpty in c:\\users\\alpha\\anaconda3\\envs\\pythonkurs\\lib\\site-packages (from jupyter-server<3,>=2.4.0->jupyterlab) (2.0.10)\n",
      "Requirement already satisfied: pyzmq>=24 in c:\\users\\alpha\\anaconda3\\envs\\pythonkurs\\lib\\site-packages (from jupyter-server<3,>=2.4.0->jupyterlab) (25.1.0)\n",
      "Requirement already satisfied: send2trash in c:\\users\\alpha\\anaconda3\\envs\\pythonkurs\\lib\\site-packages (from jupyter-server<3,>=2.4.0->jupyterlab) (1.8.0)\n",
      "Requirement already satisfied: terminado>=0.8.3 in c:\\users\\alpha\\anaconda3\\envs\\pythonkurs\\lib\\site-packages (from jupyter-server<3,>=2.4.0->jupyterlab) (0.17.1)\n",
      "Requirement already satisfied: websocket-client in c:\\users\\alpha\\anaconda3\\envs\\pythonkurs\\lib\\site-packages (from jupyter-server<3,>=2.4.0->jupyterlab) (0.58.0)\n",
      "Requirement already satisfied: platformdirs>=2.5 in c:\\users\\alpha\\anaconda3\\envs\\pythonkurs\\lib\\site-packages (from jupyter-core->jupyterlab) (2.5.2)\n",
      "Requirement already satisfied: pywin32>=300 in c:\\users\\alpha\\anaconda3\\envs\\pythonkurs\\lib\\site-packages (from jupyter-core->jupyterlab) (305.1)\n",
      "Requirement already satisfied: babel>=2.10 in c:\\users\\alpha\\anaconda3\\envs\\pythonkurs\\lib\\site-packages (from jupyterlab-server<3,>=2.19.0->jupyterlab) (2.11.0)\n",
      "Requirement already satisfied: json5>=0.9.0 in c:\\users\\alpha\\anaconda3\\envs\\pythonkurs\\lib\\site-packages (from jupyterlab-server<3,>=2.19.0->jupyterlab) (0.9.6)\n",
      "Requirement already satisfied: jsonschema>=4.17.3 in c:\\users\\alpha\\anaconda3\\envs\\pythonkurs\\lib\\site-packages (from jupyterlab-server<3,>=2.19.0->jupyterlab) (4.17.3)\n",
      "Requirement already satisfied: requests>=2.28 in c:\\users\\alpha\\anaconda3\\envs\\pythonkurs\\lib\\site-packages (from jupyterlab-server<3,>=2.19.0->jupyterlab) (2.29.0)\n",
      "Requirement already satisfied: comm>=0.1.1 in c:\\users\\alpha\\anaconda3\\envs\\pythonkurs\\lib\\site-packages (from ipykernel->jupyterlab) (0.1.2)\n",
      "Requirement already satisfied: debugpy>=1.0 in c:\\users\\alpha\\anaconda3\\envs\\pythonkurs\\lib\\site-packages (from ipykernel->jupyterlab) (1.5.1)\n",
      "Requirement already satisfied: ipython>=7.23.1 in c:\\users\\alpha\\anaconda3\\envs\\pythonkurs\\lib\\site-packages (from ipykernel->jupyterlab) (8.12.0)\n",
      "Requirement already satisfied: matplotlib-inline>=0.1 in c:\\users\\alpha\\anaconda3\\envs\\pythonkurs\\lib\\site-packages (from ipykernel->jupyterlab) (0.1.6)\n",
      "Requirement already satisfied: nest-asyncio in c:\\users\\alpha\\anaconda3\\envs\\pythonkurs\\lib\\site-packages (from ipykernel->jupyterlab) (1.5.6)\n",
      "Requirement already satisfied: psutil in c:\\users\\alpha\\anaconda3\\envs\\pythonkurs\\lib\\site-packages (from ipykernel->jupyterlab) (5.9.0)\n",
      "Requirement already satisfied: idna>=2.8 in c:\\users\\alpha\\anaconda3\\envs\\pythonkurs\\lib\\site-packages (from anyio>=3.1.0->jupyter-server<3,>=2.4.0->jupyterlab) (3.4)\n",
      "Requirement already satisfied: sniffio>=1.1 in c:\\users\\alpha\\anaconda3\\envs\\pythonkurs\\lib\\site-packages (from anyio>=3.1.0->jupyter-server<3,>=2.4.0->jupyterlab) (1.2.0)\n",
      "Requirement already satisfied: pytz>=2015.7 in c:\\users\\alpha\\anaconda3\\envs\\pythonkurs\\lib\\site-packages (from babel>=2.10->jupyterlab-server<3,>=2.19.0->jupyterlab) (2022.7)\n",
      "Requirement already satisfied: backcall in c:\\users\\alpha\\anaconda3\\envs\\pythonkurs\\lib\\site-packages (from ipython>=7.23.1->ipykernel->jupyterlab) (0.2.0)\n",
      "Requirement already satisfied: decorator in c:\\users\\alpha\\anaconda3\\envs\\pythonkurs\\lib\\site-packages (from ipython>=7.23.1->ipykernel->jupyterlab) (5.1.1)\n",
      "Requirement already satisfied: jedi>=0.16 in c:\\users\\alpha\\anaconda3\\envs\\pythonkurs\\lib\\site-packages (from ipython>=7.23.1->ipykernel->jupyterlab) (0.17.2)\n",
      "Requirement already satisfied: pickleshare in c:\\users\\alpha\\anaconda3\\envs\\pythonkurs\\lib\\site-packages (from ipython>=7.23.1->ipykernel->jupyterlab) (0.7.5)\n",
      "Requirement already satisfied: prompt-toolkit!=3.0.37,<3.1.0,>=3.0.30 in c:\\users\\alpha\\anaconda3\\envs\\pythonkurs\\lib\\site-packages (from ipython>=7.23.1->ipykernel->jupyterlab) (3.0.36)\n",
      "Requirement already satisfied: pygments>=2.4.0 in c:\\users\\alpha\\anaconda3\\envs\\pythonkurs\\lib\\site-packages (from ipython>=7.23.1->ipykernel->jupyterlab) (2.15.1)\n",
      "Requirement already satisfied: stack-data in c:\\users\\alpha\\anaconda3\\envs\\pythonkurs\\lib\\site-packages (from ipython>=7.23.1->ipykernel->jupyterlab) (0.2.0)\n",
      "Requirement already satisfied: colorama in c:\\users\\alpha\\anaconda3\\envs\\pythonkurs\\lib\\site-packages (from ipython>=7.23.1->ipykernel->jupyterlab) (0.4.6)\n",
      "Requirement already satisfied: attrs>=17.4.0 in c:\\users\\alpha\\anaconda3\\envs\\pythonkurs\\lib\\site-packages (from jsonschema>=4.17.3->jupyterlab-server<3,>=2.19.0->jupyterlab) (22.1.0)\n",
      "Requirement already satisfied: pyrsistent!=0.17.0,!=0.17.1,!=0.17.2,>=0.14.0 in c:\\users\\alpha\\anaconda3\\envs\\pythonkurs\\lib\\site-packages (from jsonschema>=4.17.3->jupyterlab-server<3,>=2.19.0->jupyterlab) (0.18.0)\n",
      "Requirement already satisfied: python-dateutil>=2.8.2 in c:\\users\\alpha\\anaconda3\\envs\\pythonkurs\\lib\\site-packages (from jupyter-client>=7.4.4->jupyter-server<3,>=2.4.0->jupyterlab) (2.8.2)\n",
      "Requirement already satisfied: python-json-logger>=2.0.4 in c:\\users\\alpha\\anaconda3\\envs\\pythonkurs\\lib\\site-packages (from jupyter-events>=0.4.0->jupyter-server<3,>=2.4.0->jupyterlab) (2.0.7)\n",
      "Requirement already satisfied: pyyaml>=5.3 in c:\\users\\alpha\\anaconda3\\envs\\pythonkurs\\lib\\site-packages (from jupyter-events>=0.4.0->jupyter-server<3,>=2.4.0->jupyterlab) (6.0)\n",
      "Requirement already satisfied: rfc3339-validator in c:\\users\\alpha\\anaconda3\\envs\\pythonkurs\\lib\\site-packages (from jupyter-events>=0.4.0->jupyter-server<3,>=2.4.0->jupyterlab) (0.1.4)\n",
      "Requirement already satisfied: rfc3986-validator>=0.1.1 in c:\\users\\alpha\\anaconda3\\envs\\pythonkurs\\lib\\site-packages (from jupyter-events>=0.4.0->jupyter-server<3,>=2.4.0->jupyterlab) (0.1.1)\n",
      "Requirement already satisfied: lxml in c:\\users\\alpha\\anaconda3\\envs\\pythonkurs\\lib\\site-packages (from nbconvert>=6.4.4->jupyter-server<3,>=2.4.0->jupyterlab) (4.9.2)\n",
      "Requirement already satisfied: beautifulsoup4 in c:\\users\\alpha\\anaconda3\\envs\\pythonkurs\\lib\\site-packages (from nbconvert>=6.4.4->jupyter-server<3,>=2.4.0->jupyterlab) (4.12.2)\n",
      "Requirement already satisfied: bleach in c:\\users\\alpha\\anaconda3\\envs\\pythonkurs\\lib\\site-packages (from nbconvert>=6.4.4->jupyter-server<3,>=2.4.0->jupyterlab) (4.1.0)\n",
      "Requirement already satisfied: defusedxml in c:\\users\\alpha\\anaconda3\\envs\\pythonkurs\\lib\\site-packages (from nbconvert>=6.4.4->jupyter-server<3,>=2.4.0->jupyterlab) (0.7.1)\n",
      "Requirement already satisfied: entrypoints>=0.2.2 in c:\\users\\alpha\\anaconda3\\envs\\pythonkurs\\lib\\site-packages (from nbconvert>=6.4.4->jupyter-server<3,>=2.4.0->jupyterlab) (0.4)\n",
      "Requirement already satisfied: jupyterlab-pygments in c:\\users\\alpha\\anaconda3\\envs\\pythonkurs\\lib\\site-packages (from nbconvert>=6.4.4->jupyter-server<3,>=2.4.0->jupyterlab) (0.1.2)\n",
      "Requirement already satisfied: mistune<2,>=0.8.1 in c:\\users\\alpha\\anaconda3\\envs\\pythonkurs\\lib\\site-packages (from nbconvert>=6.4.4->jupyter-server<3,>=2.4.0->jupyterlab) (0.8.4)\n",
      "Requirement already satisfied: nbclient>=0.5.0 in c:\\users\\alpha\\anaconda3\\envs\\pythonkurs\\lib\\site-packages (from nbconvert>=6.4.4->jupyter-server<3,>=2.4.0->jupyterlab) (0.5.13)\n",
      "Requirement already satisfied: pandocfilters>=1.4.1 in c:\\users\\alpha\\anaconda3\\envs\\pythonkurs\\lib\\site-packages (from nbconvert>=6.4.4->jupyter-server<3,>=2.4.0->jupyterlab) (1.5.0)\n",
      "Requirement already satisfied: tinycss2 in c:\\users\\alpha\\anaconda3\\envs\\pythonkurs\\lib\\site-packages (from nbconvert>=6.4.4->jupyter-server<3,>=2.4.0->jupyterlab) (1.2.1)\n",
      "Requirement already satisfied: fastjsonschema in c:\\users\\alpha\\anaconda3\\envs\\pythonkurs\\lib\\site-packages (from nbformat>=5.3.0->jupyter-server<3,>=2.4.0->jupyterlab) (2.16.2)\n",
      "Requirement already satisfied: charset-normalizer<4,>=2 in c:\\users\\alpha\\anaconda3\\envs\\pythonkurs\\lib\\site-packages (from requests>=2.28->jupyterlab-server<3,>=2.19.0->jupyterlab) (2.0.4)\n",
      "Requirement already satisfied: urllib3<1.27,>=1.21.1 in c:\\users\\alpha\\anaconda3\\envs\\pythonkurs\\lib\\site-packages (from requests>=2.28->jupyterlab-server<3,>=2.19.0->jupyterlab) (1.26.16)\n",
      "Requirement already satisfied: certifi>=2017.4.17 in c:\\users\\alpha\\anaconda3\\envs\\pythonkurs\\lib\\site-packages (from requests>=2.28->jupyterlab-server<3,>=2.19.0->jupyterlab) (2023.5.7)\n",
      "Requirement already satisfied: argon2-cffi-bindings in c:\\users\\alpha\\anaconda3\\envs\\pythonkurs\\lib\\site-packages (from argon2-cffi->jupyter-server<3,>=2.4.0->jupyterlab) (21.2.0)\n",
      "Requirement already satisfied: six in c:\\users\\alpha\\anaconda3\\envs\\pythonkurs\\lib\\site-packages (from websocket-client->jupyter-server<3,>=2.4.0->jupyterlab) (1.16.0)\n",
      "Requirement already satisfied: parso<0.8.0,>=0.7.0 in c:\\users\\alpha\\anaconda3\\envs\\pythonkurs\\lib\\site-packages (from jedi>=0.16->ipython>=7.23.1->ipykernel->jupyterlab) (0.7.1)\n",
      "Requirement already satisfied: fqdn in c:\\users\\alpha\\anaconda3\\envs\\pythonkurs\\lib\\site-packages (from jsonschema>=4.17.3->jupyterlab-server<3,>=2.19.0->jupyterlab) (1.5.1)\n",
      "Requirement already satisfied: isoduration in c:\\users\\alpha\\anaconda3\\envs\\pythonkurs\\lib\\site-packages (from jsonschema>=4.17.3->jupyterlab-server<3,>=2.19.0->jupyterlab) (20.11.0)\n",
      "Requirement already satisfied: jsonpointer>1.13 in c:\\users\\alpha\\anaconda3\\envs\\pythonkurs\\lib\\site-packages (from jsonschema>=4.17.3->jupyterlab-server<3,>=2.19.0->jupyterlab) (2.4)\n",
      "Requirement already satisfied: uri-template in c:\\users\\alpha\\anaconda3\\envs\\pythonkurs\\lib\\site-packages (from jsonschema>=4.17.3->jupyterlab-server<3,>=2.19.0->jupyterlab) (1.3.0)\n",
      "Requirement already satisfied: webcolors>=1.11 in c:\\users\\alpha\\anaconda3\\envs\\pythonkurs\\lib\\site-packages (from jsonschema>=4.17.3->jupyterlab-server<3,>=2.19.0->jupyterlab) (1.13)\n",
      "Requirement already satisfied: wcwidth in c:\\users\\alpha\\anaconda3\\envs\\pythonkurs\\lib\\site-packages (from prompt-toolkit!=3.0.37,<3.1.0,>=3.0.30->ipython>=7.23.1->ipykernel->jupyterlab) (0.2.5)\n",
      "Requirement already satisfied: cffi>=1.0.1 in c:\\users\\alpha\\anaconda3\\envs\\pythonkurs\\lib\\site-packages (from argon2-cffi-bindings->argon2-cffi->jupyter-server<3,>=2.4.0->jupyterlab) (1.15.1)\n",
      "Requirement already satisfied: soupsieve>1.2 in c:\\users\\alpha\\anaconda3\\envs\\pythonkurs\\lib\\site-packages (from beautifulsoup4->nbconvert>=6.4.4->jupyter-server<3,>=2.4.0->jupyterlab) (2.4)\n",
      "Requirement already satisfied: webencodings in c:\\users\\alpha\\anaconda3\\envs\\pythonkurs\\lib\\site-packages (from bleach->nbconvert>=6.4.4->jupyter-server<3,>=2.4.0->jupyterlab) (0.5.1)\n",
      "Requirement already satisfied: executing in c:\\users\\alpha\\anaconda3\\envs\\pythonkurs\\lib\\site-packages (from stack-data->ipython>=7.23.1->ipykernel->jupyterlab) (0.8.3)\n",
      "Requirement already satisfied: asttokens in c:\\users\\alpha\\anaconda3\\envs\\pythonkurs\\lib\\site-packages (from stack-data->ipython>=7.23.1->ipykernel->jupyterlab) (2.0.5)\n",
      "Requirement already satisfied: pure-eval in c:\\users\\alpha\\anaconda3\\envs\\pythonkurs\\lib\\site-packages (from stack-data->ipython>=7.23.1->ipykernel->jupyterlab) (0.2.2)\n",
      "Requirement already satisfied: pycparser in c:\\users\\alpha\\anaconda3\\envs\\pythonkurs\\lib\\site-packages (from cffi>=1.0.1->argon2-cffi-bindings->argon2-cffi->jupyter-server<3,>=2.4.0->jupyterlab) (2.21)\n",
      "Requirement already satisfied: arrow>=0.15.0 in c:\\users\\alpha\\anaconda3\\envs\\pythonkurs\\lib\\site-packages (from isoduration->jsonschema>=4.17.3->jupyterlab-server<3,>=2.19.0->jupyterlab) (1.3.0)\n",
      "Requirement already satisfied: types-python-dateutil>=2.8.10 in c:\\users\\alpha\\anaconda3\\envs\\pythonkurs\\lib\\site-packages (from arrow>=0.15.0->isoduration->jsonschema>=4.17.3->jupyterlab-server<3,>=2.19.0->jupyterlab) (2.8.19.14)\n",
      "Installing collected packages: async-lru, jupyter-lsp, jupyterlab\n",
      "  Attempting uninstall: jupyterlab\n",
      "    Found existing installation: jupyterlab 3.6.3\n",
      "    Uninstalling jupyterlab-3.6.3:\n",
      "      Successfully uninstalled jupyterlab-3.6.3\n",
      "Note: you may need to restart the kernel to use updated packages.\n"
     ]
    },
    {
     "name": "stderr",
     "output_type": "stream",
     "text": [
      "ERROR: Could not install packages due to an OSError: [WinError 5] Zugriff verweigert: 'C:\\\\Users\\\\Alpha\\\\AppData\\\\Local\\\\Temp\\\\pip-uninstall-zla70h5b\\\\jupyter-lab.exe'\n",
      "Consider using the `--user` option or check the permissions.\n",
      "\n"
     ]
    }
   ],
   "source": [
    "pip install --upgrade jupyterlab\n"
   ]
  },
  {
   "cell_type": "code",
   "execution_count": null,
   "id": "3412578b-7dd4-4301-8196-f83f13416f25",
   "metadata": {},
   "outputs": [],
   "source": []
  }
 ],
 "metadata": {
  "kernelspec": {
   "display_name": "Python 3 (ipykernel)",
   "language": "python",
   "name": "python3"
  },
  "language_info": {
   "codemirror_mode": {
    "name": "ipython",
    "version": 3
   },
   "file_extension": ".py",
   "mimetype": "text/x-python",
   "name": "python",
   "nbconvert_exporter": "python",
   "pygments_lexer": "ipython3",
   "version": "3.11.4"
  }
 },
 "nbformat": 4,
 "nbformat_minor": 5
}
