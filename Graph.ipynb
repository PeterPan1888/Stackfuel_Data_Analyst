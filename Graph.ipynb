{
 "cells": [
  {
   "cell_type": "code",
   "execution_count": 1,
   "id": "b4f7b02d-cf6a-482d-ab96-5c7424ce55d0",
   "metadata": {
    "tags": []
   },
   "outputs": [
    {
     "data": {
      "text/html": [
       "\n",
       "<style>\n",
       "    :root {\n",
       "        --jp-widgets-inline-label-width: auto !important;\n",
       "    }\n",
       "</style>\n"
      ],
      "text/plain": [
       "<IPython.core.display.HTML object>"
      ]
     },
     "metadata": {},
     "output_type": "display_data"
    },
    {
     "data": {
      "application/vnd.jupyter.widget-view+json": {
       "model_id": "2ad750111fdd406e905d827e96a8e36f",
       "version_major": 2,
       "version_minor": 0
      },
      "text/plain": [
       "Dropdown(description='Select Column:', options=('Annual CO₂ emissions', 'Renewables (TWh growth - equivalent)'…"
      ]
     },
     "metadata": {},
     "output_type": "display_data"
    },
    {
     "data": {
      "application/vnd.jupyter.widget-view+json": {
       "model_id": "00b2f0fa199040aaa57d9d9f30ee0f9c",
       "version_major": 2,
       "version_minor": 0
      },
      "text/plain": [
       "HBox(children=(VBox(children=(HBox(children=(Text(value='', layout=Layout(width='95%'), placeholder='Search fo…"
      ]
     },
     "metadata": {},
     "output_type": "display_data"
    }
   ],
   "source": [
    "## Basic import and DF creation\n",
    "import pandas as pd\n",
    "import plotly.graph_objects as go\n",
    "import ipywidgets as widgets\n",
    "from IPython.display import display, clear_output\n",
    "from IPython.core.display import HTML\n",
    "\n",
    "# Specify the path to your Excel file\n",
    "file_path = r\"09_Outputs\\main_data.xlsx\"\n",
    "\n",
    "# Load the Excel file into a DataFrame using the openpyxl engine\n",
    "df_main = pd.read_excel(file_path, engine='openpyxl')\n",
    "\n",
    "# Remove quotation marks from the 'Entity' column\n",
    "df_main['Entity'] = df_main['Entity'].str.replace('\"', '')\n",
    "\n",
    "# Retrieve unique countries from the DataFrame and store them as a list of strings\n",
    "all_countries = df_main['Entity'].drop_duplicates().astype(str).tolist()\n",
    "\n",
    "# Display the first 5 rows of the DataFrame for a quick overview\n",
    "df_main.head()\n",
    "\n",
    "\n",
    "# Assuming df_main is already available\n",
    "filtered_df = df_main\n",
    "\n",
    "# Extract unique countries from the dataframe\n",
    "all_countries = sorted(filtered_df['Entity'].drop_duplicates().astype(str).tolist())\n",
    "default_countries = ['Germany', 'China', 'India', 'United States', 'World']\n",
    "left_container_width = '270px'\n",
    "\n",
    "# Custom sorting function\n",
    "def custom_sort(country):\n",
    "    selected_countries = [cb.description for cb in checkboxes_container.children if cb.value]\n",
    "    if country in selected_countries:\n",
    "        return (-1, selected_countries.index(country))  # Selected countries come first\n",
    "    else:\n",
    "        return (1, country)  # All other countries come last\n",
    "\n",
    "# Update list of countries based on user search input\n",
    "def update_country_list(*args):\n",
    "    selected_countries = [cb.description for cb in checkboxes_container.children if cb.value]\n",
    "    search_input = search_box.value\n",
    "    search_results = [country for country in all_countries if search_input.lower() in country.lower()]\n",
    "    updated_countries = list(set(search_results + selected_countries))\n",
    "    \n",
    "    updated_countries = sorted(updated_countries, key=custom_sort)\n",
    "    \n",
    "    updated_checkboxes = [widgets.Checkbox(value=(country in selected_countries), description=country,\n",
    "                                           layout=widgets.Layout(width=\"100%\", padding=\"0px\")) for country in updated_countries]\n",
    "    checkboxes_container.children = tuple(updated_checkboxes)\n",
    "    \n",
    "    for cb in checkboxes_container.children:\n",
    "        cb.observe(plot_selected_column, names='value')\n",
    "        cb.observe(update_country_list, names='value') \n",
    "\n",
    "# The plot_selected_column function\n",
    "def plot_selected_column(change=None):\n",
    "    column = column_dropdown.value\n",
    "    selected_countries = [cb.description for cb in checkboxes_container.children if cb.value]\n",
    "    with out:\n",
    "        clear_output(wait=True)\n",
    "        fig = go.Figure()\n",
    "        for country in selected_countries:\n",
    "            country_data = filtered_df[filtered_df['Entity'] == country]\n",
    "            fig.add_trace(go.Scatter(x=country_data['Year'], y=country_data[column], mode='lines', name=country, showlegend=True))\n",
    "        \n",
    "        # Added dotted grid layout\n",
    "        fig.update_layout(title=column, \n",
    "                          xaxis=dict(title='Year', showgrid=True, gridcolor='rgba(128, 128, 128, 0.5)', gridwidth=0.5, griddash='dot', zeroline=False),\n",
    "                          yaxis=dict(title=column, showgrid=True, gridcolor='rgba(128, 128, 128, 0.5)', gridwidth=0.5, griddash='dot', zeroline=False),\n",
    "                          plot_bgcolor='white', paper_bgcolor='white')\n",
    "        fig.show()\n",
    "\n",
    "\n",
    "checkboxes_container = widgets.VBox([], layout=widgets.Layout(overflow_y=\"scroll\", height=\"400px\", border=\"1px solid #DDD\"))\n",
    "\n",
    "country_checkboxes = [widgets.Checkbox(value=(country in default_countries), description=country, layout=widgets.Layout(width=\"100%\", padding=\"0px\")) for country in sorted(all_countries, key=custom_sort)]\n",
    "\n",
    "for cb in country_checkboxes:\n",
    "    cb.observe(plot_selected_column, names='value')\n",
    "\n",
    "checkboxes_container.children = tuple(country_checkboxes)\n",
    "\n",
    "# Creating the search box widget\n",
    "search_box = widgets.Text(value='', placeholder='Search for Countries...', description='', layout=widgets.Layout(width=\"95%\"))\n",
    "search_box.observe(update_country_list, names='value')\n",
    "\n",
    "clear_button = widgets.Button(description=\"X\", layout=widgets.Layout(width=\"5%\"))\n",
    "clear_button.on_click(lambda change: setattr(search_box, 'value', ''))\n",
    "\n",
    "out = widgets.Output(layout=widgets.Layout(height=\"400px\", width=\"60%\"))\n",
    "\n",
    "columns_to_plot = filtered_df.columns[filtered_df.columns.get_loc('Code')+1:]\n",
    "column_dropdown = widgets.Dropdown(options=columns_to_plot, description='Select Column:')\n",
    "column_dropdown.observe(plot_selected_column, names='value')\n",
    "\n",
    "left_container = widgets.VBox([widgets.HBox([search_box, clear_button]), checkboxes_container], layout=widgets.Layout(width=left_container_width, border=\"1px solid #DDD\", padding=\"5px 0px 0px 0px\"))\n",
    "\n",
    "display(HTML(\"\"\"\n",
    "<style>\n",
    "    :root {\n",
    "        --jp-widgets-inline-label-width: auto !important;\n",
    "    }\n",
    "</style>\n",
    "\"\"\"))\n",
    "\n",
    "display(column_dropdown)\n",
    "display(widgets.HBox([left_container, out]))\n",
    "plot_selected_column()\n",
    "# Initial setup\n",
    "update_country_list()"
   ]
  },
  {
   "cell_type": "code",
   "execution_count": null,
   "id": "c8f3af10-5d39-404e-ba0c-2c802507f943",
   "metadata": {},
   "outputs": [],
   "source": []
  }
 ],
 "metadata": {
  "kernelspec": {
   "display_name": "Python 3 (ipykernel)",
   "language": "python",
   "name": "python3"
  },
  "language_info": {
   "codemirror_mode": {
    "name": "ipython",
    "version": 3
   },
   "file_extension": ".py",
   "mimetype": "text/x-python",
   "name": "python",
   "nbconvert_exporter": "python",
   "pygments_lexer": "ipython3",
   "version": "3.11.5"
  }
 },
 "nbformat": 4,
 "nbformat_minor": 5
}
